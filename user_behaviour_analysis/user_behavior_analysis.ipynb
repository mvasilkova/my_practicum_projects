{
 "cells": [
  {
   "cell_type": "markdown",
   "metadata": {},
   "source": [
    "# Исследование поведения пользователей мобильного приложения"
   ]
  },
  {
   "cell_type": "markdown",
   "metadata": {},
   "source": [
    "## Содержание \n",
    "\n",
    "1. [Описание проекта](#step1)\n",
    "2. [Подготовка данных](#step2)\n",
    "3. [Изучение и проверка данных](#step3)\n",
    "4. [Изучение воронки событий](#step4)\n",
    "5. [Изучение результатов эксперимента](#step5)\n",
    "6. [Общий вывод](#step6)"
   ]
  },
  {
   "cell_type": "markdown",
   "metadata": {},
   "source": [
    "<a id='step1'></a>\n",
    "## 1. Описание проекта  \n",
    "\n",
    "**Задачи:**  \n",
    " - Разобраться, как ведут себя пользователи мобильного приложения.  \n",
    " - Изучите воронку продаж. Узнать, как пользователи доходят до покупки. \n",
    " - Исследовать результаты A/A/B-эксперимента и выяснить, какой шрифт лучше для приложения.\n",
    " \n",
    "**Данные:**  \n",
    "\n",
    "  Записи в логе.  \n",
    "`EventName` — название события;  \n",
    "`DeviceIDHash` — уникальный идентификатор пользователя;  \n",
    "`EventTimestamp` — время события;  \n",
    "`ExpId` — номер эксперимента: 246 и 247 — контрольные группы, а 248 — экспериментальная.  \n",
    "\n",
    "[К содержанию](#Содержание)"
   ]
  },
  {
   "cell_type": "code",
   "execution_count": 1,
   "metadata": {},
   "outputs": [],
   "source": [
    "import numpy as np\n",
    "import pandas as pd\n",
    "import matplotlib as mpl\n",
    "from matplotlib import pyplot as plt\n",
    "import math\n",
    "from scipy import stats as st\n",
    "import seaborn as sns"
   ]
  },
  {
   "cell_type": "code",
   "execution_count": 2,
   "metadata": {},
   "outputs": [],
   "source": [
    "import warnings\n",
    "warnings.simplefilter('ignore')"
   ]
  },
  {
   "cell_type": "code",
   "execution_count": 3,
   "metadata": {},
   "outputs": [],
   "source": [
    "mpl.rcParams['figure.figsize'] = (12,6)\n",
    "mpl.rcParams['axes.spines.right'] = False\n",
    "mpl.rcParams['axes.spines.top'] = False"
   ]
  },
  {
   "cell_type": "code",
   "execution_count": 4,
   "metadata": {},
   "outputs": [],
   "source": [
    "data = pd.read_csv('datasets/logs_exp.csv', sep='\\t')"
   ]
  },
  {
   "cell_type": "markdown",
   "metadata": {},
   "source": [
    "<a id='step2'></a>\n",
    "## 2. Подготовка данных  "
   ]
  },
  {
   "cell_type": "code",
   "execution_count": 5,
   "metadata": {},
   "outputs": [
    {
     "data": {
      "text/html": [
       "<div>\n",
       "<style scoped>\n",
       "    .dataframe tbody tr th:only-of-type {\n",
       "        vertical-align: middle;\n",
       "    }\n",
       "\n",
       "    .dataframe tbody tr th {\n",
       "        vertical-align: top;\n",
       "    }\n",
       "\n",
       "    .dataframe thead th {\n",
       "        text-align: right;\n",
       "    }\n",
       "</style>\n",
       "<table border=\"1\" class=\"dataframe\">\n",
       "  <thead>\n",
       "    <tr style=\"text-align: right;\">\n",
       "      <th></th>\n",
       "      <th>EventName</th>\n",
       "      <th>DeviceIDHash</th>\n",
       "      <th>EventTimestamp</th>\n",
       "      <th>ExpId</th>\n",
       "    </tr>\n",
       "  </thead>\n",
       "  <tbody>\n",
       "    <tr>\n",
       "      <th>0</th>\n",
       "      <td>MainScreenAppear</td>\n",
       "      <td>4575588528974610257</td>\n",
       "      <td>1564029816</td>\n",
       "      <td>246</td>\n",
       "    </tr>\n",
       "    <tr>\n",
       "      <th>1</th>\n",
       "      <td>MainScreenAppear</td>\n",
       "      <td>7416695313311560658</td>\n",
       "      <td>1564053102</td>\n",
       "      <td>246</td>\n",
       "    </tr>\n",
       "    <tr>\n",
       "      <th>2</th>\n",
       "      <td>PaymentScreenSuccessful</td>\n",
       "      <td>3518123091307005509</td>\n",
       "      <td>1564054127</td>\n",
       "      <td>248</td>\n",
       "    </tr>\n",
       "    <tr>\n",
       "      <th>3</th>\n",
       "      <td>CartScreenAppear</td>\n",
       "      <td>3518123091307005509</td>\n",
       "      <td>1564054127</td>\n",
       "      <td>248</td>\n",
       "    </tr>\n",
       "    <tr>\n",
       "      <th>4</th>\n",
       "      <td>PaymentScreenSuccessful</td>\n",
       "      <td>6217807653094995999</td>\n",
       "      <td>1564055322</td>\n",
       "      <td>248</td>\n",
       "    </tr>\n",
       "  </tbody>\n",
       "</table>\n",
       "</div>"
      ],
      "text/plain": [
       "                 EventName         DeviceIDHash  EventTimestamp  ExpId\n",
       "0         MainScreenAppear  4575588528974610257      1564029816    246\n",
       "1         MainScreenAppear  7416695313311560658      1564053102    246\n",
       "2  PaymentScreenSuccessful  3518123091307005509      1564054127    248\n",
       "3         CartScreenAppear  3518123091307005509      1564054127    248\n",
       "4  PaymentScreenSuccessful  6217807653094995999      1564055322    248"
      ]
     },
     "execution_count": 5,
     "metadata": {},
     "output_type": "execute_result"
    }
   ],
   "source": [
    "data.head()"
   ]
  },
  {
   "cell_type": "code",
   "execution_count": 6,
   "metadata": {},
   "outputs": [],
   "source": [
    "data = data.rename(columns = {'EventName':'event_name',\n",
    "                              'DeviceIDHash':'user_id',\n",
    "                             'EventTimestamp':'event_timestamp',\n",
    "                              'ExpId':'exp_id'})"
   ]
  },
  {
   "cell_type": "code",
   "execution_count": 7,
   "metadata": {},
   "outputs": [
    {
     "name": "stdout",
     "output_type": "stream",
     "text": [
      "<class 'pandas.core.frame.DataFrame'>\n",
      "RangeIndex: 244126 entries, 0 to 244125\n",
      "Data columns (total 4 columns):\n",
      " #   Column           Non-Null Count   Dtype \n",
      "---  ------           --------------   ----- \n",
      " 0   event_name       244126 non-null  object\n",
      " 1   user_id          244126 non-null  int64 \n",
      " 2   event_timestamp  244126 non-null  int64 \n",
      " 3   exp_id           244126 non-null  int64 \n",
      "dtypes: int64(3), object(1)\n",
      "memory usage: 7.5+ MB\n"
     ]
    }
   ],
   "source": [
    "data.info()"
   ]
  },
  {
   "cell_type": "code",
   "execution_count": 8,
   "metadata": {},
   "outputs": [],
   "source": [
    "data['event_timestamp'] = pd.to_datetime(data['event_timestamp'], unit='s')\n",
    "data['user_id'] = data['user_id'].astype('str')"
   ]
  },
  {
   "cell_type": "code",
   "execution_count": 9,
   "metadata": {},
   "outputs": [
    {
     "data": {
      "text/plain": [
       "413"
      ]
     },
     "execution_count": 9,
     "metadata": {},
     "output_type": "execute_result"
    }
   ],
   "source": [
    "data.duplicated().sum()"
   ]
  },
  {
   "cell_type": "code",
   "execution_count": 10,
   "metadata": {},
   "outputs": [],
   "source": [
    "data = data.drop_duplicates().reset_index(drop=True)"
   ]
  },
  {
   "cell_type": "code",
   "execution_count": 11,
   "metadata": {},
   "outputs": [],
   "source": [
    "data['date'] = pd.to_datetime(data['event_timestamp'].dt.date,\n",
    "                              format='%Y-%m-%d')"
   ]
  },
  {
   "cell_type": "code",
   "execution_count": 12,
   "metadata": {},
   "outputs": [
    {
     "data": {
      "text/html": [
       "<div>\n",
       "<style scoped>\n",
       "    .dataframe tbody tr th:only-of-type {\n",
       "        vertical-align: middle;\n",
       "    }\n",
       "\n",
       "    .dataframe tbody tr th {\n",
       "        vertical-align: top;\n",
       "    }\n",
       "\n",
       "    .dataframe thead th {\n",
       "        text-align: right;\n",
       "    }\n",
       "</style>\n",
       "<table border=\"1\" class=\"dataframe\">\n",
       "  <thead>\n",
       "    <tr style=\"text-align: right;\">\n",
       "      <th></th>\n",
       "      <th>event_name</th>\n",
       "      <th>user_id</th>\n",
       "      <th>event_timestamp</th>\n",
       "      <th>exp_id</th>\n",
       "      <th>date</th>\n",
       "    </tr>\n",
       "  </thead>\n",
       "  <tbody>\n",
       "    <tr>\n",
       "      <th>0</th>\n",
       "      <td>MainScreenAppear</td>\n",
       "      <td>4575588528974610257</td>\n",
       "      <td>2019-07-25 04:43:36</td>\n",
       "      <td>246</td>\n",
       "      <td>2019-07-25</td>\n",
       "    </tr>\n",
       "    <tr>\n",
       "      <th>1</th>\n",
       "      <td>MainScreenAppear</td>\n",
       "      <td>7416695313311560658</td>\n",
       "      <td>2019-07-25 11:11:42</td>\n",
       "      <td>246</td>\n",
       "      <td>2019-07-25</td>\n",
       "    </tr>\n",
       "    <tr>\n",
       "      <th>2</th>\n",
       "      <td>PaymentScreenSuccessful</td>\n",
       "      <td>3518123091307005509</td>\n",
       "      <td>2019-07-25 11:28:47</td>\n",
       "      <td>248</td>\n",
       "      <td>2019-07-25</td>\n",
       "    </tr>\n",
       "    <tr>\n",
       "      <th>3</th>\n",
       "      <td>CartScreenAppear</td>\n",
       "      <td>3518123091307005509</td>\n",
       "      <td>2019-07-25 11:28:47</td>\n",
       "      <td>248</td>\n",
       "      <td>2019-07-25</td>\n",
       "    </tr>\n",
       "    <tr>\n",
       "      <th>4</th>\n",
       "      <td>PaymentScreenSuccessful</td>\n",
       "      <td>6217807653094995999</td>\n",
       "      <td>2019-07-25 11:48:42</td>\n",
       "      <td>248</td>\n",
       "      <td>2019-07-25</td>\n",
       "    </tr>\n",
       "  </tbody>\n",
       "</table>\n",
       "</div>"
      ],
      "text/plain": [
       "                event_name              user_id     event_timestamp  exp_id  \\\n",
       "0         MainScreenAppear  4575588528974610257 2019-07-25 04:43:36     246   \n",
       "1         MainScreenAppear  7416695313311560658 2019-07-25 11:11:42     246   \n",
       "2  PaymentScreenSuccessful  3518123091307005509 2019-07-25 11:28:47     248   \n",
       "3         CartScreenAppear  3518123091307005509 2019-07-25 11:28:47     248   \n",
       "4  PaymentScreenSuccessful  6217807653094995999 2019-07-25 11:48:42     248   \n",
       "\n",
       "        date  \n",
       "0 2019-07-25  \n",
       "1 2019-07-25  \n",
       "2 2019-07-25  \n",
       "3 2019-07-25  \n",
       "4 2019-07-25  "
      ]
     },
     "execution_count": 12,
     "metadata": {},
     "output_type": "execute_result"
    }
   ],
   "source": [
    "data.head()"
   ]
  },
  {
   "cell_type": "code",
   "execution_count": 13,
   "metadata": {},
   "outputs": [
    {
     "name": "stdout",
     "output_type": "stream",
     "text": [
      "<class 'pandas.core.frame.DataFrame'>\n",
      "RangeIndex: 243713 entries, 0 to 243712\n",
      "Data columns (total 5 columns):\n",
      " #   Column           Non-Null Count   Dtype         \n",
      "---  ------           --------------   -----         \n",
      " 0   event_name       243713 non-null  object        \n",
      " 1   user_id          243713 non-null  object        \n",
      " 2   event_timestamp  243713 non-null  datetime64[ns]\n",
      " 3   exp_id           243713 non-null  int64         \n",
      " 4   date             243713 non-null  datetime64[ns]\n",
      "dtypes: datetime64[ns](2), int64(1), object(2)\n",
      "memory usage: 9.3+ MB\n"
     ]
    }
   ],
   "source": [
    "data.info()"
   ]
  },
  {
   "cell_type": "markdown",
   "metadata": {},
   "source": [
    "**Выводы по предобработке:**  \n",
    "* пропусков в данных не обнаружено\n",
    "* столбец event_timestamp преобразован к типу 'datetime'\n",
    "* добавлен отдельный столбец дат `date`.  \n",
    "* найдено и удалено 413 строк-дубликатов."
   ]
  },
  {
   "cell_type": "markdown",
   "metadata": {},
   "source": [
    "[К содержанию](#Содержание)"
   ]
  },
  {
   "cell_type": "markdown",
   "metadata": {},
   "source": [
    "<a id='step3'></a>\n",
    "## 3. Изучение и проверка данных  "
   ]
  },
  {
   "cell_type": "code",
   "execution_count": 14,
   "metadata": {},
   "outputs": [
    {
     "name": "stdout",
     "output_type": "stream",
     "text": [
      "Всего событий: 243713.\n",
      "Всего пользователей: 7551.\n"
     ]
    }
   ],
   "source": [
    "n_events = data.shape[0]\n",
    "n_users = data['user_id'].nunique()\n",
    "print('Всего событий: {}.'.format(n_events))\n",
    "print('Всего пользователей: {}.'.format(n_users))"
   ]
  },
  {
   "cell_type": "markdown",
   "metadata": {},
   "source": [
    "Выясним, сколько в среднем приходится событий на пользователя.  \n",
    "Поскольку все люди разные и пользователя могут очень сильно отличаться по своему поведению, сначала посмотрим на распределение количества событий по пользователям."
   ]
  },
  {
   "cell_type": "code",
   "execution_count": 15,
   "metadata": {},
   "outputs": [],
   "source": [
    "events = data.groupby('user_id').agg({'event_name':'count'})\n",
    "events = events.rename(columns={'event_name':'n_events'})"
   ]
  },
  {
   "cell_type": "code",
   "execution_count": 16,
   "metadata": {},
   "outputs": [
    {
     "data": {
      "text/html": [
       "<div>\n",
       "<style scoped>\n",
       "    .dataframe tbody tr th:only-of-type {\n",
       "        vertical-align: middle;\n",
       "    }\n",
       "\n",
       "    .dataframe tbody tr th {\n",
       "        vertical-align: top;\n",
       "    }\n",
       "\n",
       "    .dataframe thead th {\n",
       "        text-align: right;\n",
       "    }\n",
       "</style>\n",
       "<table border=\"1\" class=\"dataframe\">\n",
       "  <thead>\n",
       "    <tr style=\"text-align: right;\">\n",
       "      <th></th>\n",
       "      <th>n_events</th>\n",
       "    </tr>\n",
       "    <tr>\n",
       "      <th>user_id</th>\n",
       "      <th></th>\n",
       "    </tr>\n",
       "  </thead>\n",
       "  <tbody>\n",
       "    <tr>\n",
       "      <th>1000608915523616548</th>\n",
       "      <td>3</td>\n",
       "    </tr>\n",
       "    <tr>\n",
       "      <th>100724994572555335</th>\n",
       "      <td>2</td>\n",
       "    </tr>\n",
       "    <tr>\n",
       "      <th>1008242126838007188</th>\n",
       "      <td>24</td>\n",
       "    </tr>\n",
       "    <tr>\n",
       "      <th>1009503747199967885</th>\n",
       "      <td>37</td>\n",
       "    </tr>\n",
       "    <tr>\n",
       "      <th>1009745980451513098</th>\n",
       "      <td>31</td>\n",
       "    </tr>\n",
       "  </tbody>\n",
       "</table>\n",
       "</div>"
      ],
      "text/plain": [
       "                     n_events\n",
       "user_id                      \n",
       "1000608915523616548         3\n",
       "100724994572555335          2\n",
       "1008242126838007188        24\n",
       "1009503747199967885        37\n",
       "1009745980451513098        31"
      ]
     },
     "execution_count": 16,
     "metadata": {},
     "output_type": "execute_result"
    }
   ],
   "source": [
    "events.head()"
   ]
  },
  {
   "cell_type": "code",
   "execution_count": 17,
   "metadata": {},
   "outputs": [
    {
     "data": {
      "image/png": "[encoded data removed]",
      "text/plain": [
       "<Figure size 864x432 with 1 Axes>"
      ]
     },
     "metadata": {
      "needs_background": "light"
     },
     "output_type": "display_data"
    }
   ],
   "source": [
    "plt.hist(events['n_events'], bins=100)\n",
    "plt.title('Гистограмма распределения количества событий на одного пользователя')\n",
    "plt.xlabel('Количество событий')\n",
    "plt.ylabel('Пользователи');"
   ]
  },
  {
   "cell_type": "markdown",
   "metadata": {},
   "source": [
    "Для большинства пользователей количество событий не превышает 250, однако распределение сильно скошено вправо и есть много выбросов. Для описания типичного значения количества событий больше подойдет медиана."
   ]
  },
  {
   "cell_type": "code",
   "execution_count": 18,
   "metadata": {},
   "outputs": [
    {
     "name": "stdout",
     "output_type": "stream",
     "text": [
      "Медианное количество событий на одного пользователя: 20\n"
     ]
    }
   ],
   "source": [
    "print('Медианное количество событий на одного пользователя: {}'.format(int(events.median())))"
   ]
  },
  {
   "cell_type": "markdown",
   "metadata": {},
   "source": [
    "Выясним, являются ли данные полными."
   ]
  },
  {
   "cell_type": "code",
   "execution_count": 19,
   "metadata": {},
   "outputs": [
    {
     "data": {
      "text/plain": [
       "count                  243713\n",
       "unique                 176654\n",
       "top       2019-08-01 14:40:35\n",
       "freq                        9\n",
       "first     2019-07-25 04:43:36\n",
       "last      2019-08-07 21:15:17\n",
       "Name: event_timestamp, dtype: object"
      ]
     },
     "execution_count": 19,
     "metadata": {},
     "output_type": "execute_result"
    }
   ],
   "source": [
    "data['event_timestamp'].describe()"
   ]
  },
  {
   "cell_type": "markdown",
   "metadata": {},
   "source": [
    "Доступны данные с 25 июля по 7 августа 2019 года.  \n",
    "Построим гистограмму по дате и времени.  "
   ]
  },
  {
   "cell_type": "code",
   "execution_count": 20,
   "metadata": {},
   "outputs": [
    {
     "data": {
      "image/png": "[encoded data removed]",
      "text/plain": [
       "<Figure size 864x432 with 1 Axes>"
      ]
     },
     "metadata": {
      "needs_background": "light"
     },
     "output_type": "display_data"
    }
   ],
   "source": [
    "plt.hist(data['event_timestamp'], bins=1000)\n",
    "plt.title('Гистограмма распределения событий по времени')\n",
    "plt.ylabel('Количество событий')\n",
    "plt.xticks(rotation=15);"
   ]
  },
  {
   "cell_type": "markdown",
   "metadata": {},
   "source": [
    "По гистограмме видно, что данные до первого августа явно неполные. Исключим их из дальнейшего анализа."
   ]
  },
  {
   "cell_type": "code",
   "execution_count": 21,
   "metadata": {},
   "outputs": [
    {
     "data": {
      "image/png": "[encoded data removed]",
      "text/plain": [
       "<Figure size 864x432 with 1 Axes>"
      ]
     },
     "metadata": {
      "needs_background": "light"
     },
     "output_type": "display_data"
    }
   ],
   "source": [
    "plt.title('Гистограмма распределения событий в промежуток 2019-07-31 - 2019-08-01')\n",
    "plt.ylabel('Количество событий')\n",
    "plt.hist(data[(data['date']>='2019-07-31')&(data['date']<='2019-08-01')]['event_timestamp'],\n",
    "         bins=100);"
   ]
  },
  {
   "cell_type": "markdown",
   "metadata": {},
   "source": [
    "Видно, что к концу дня 2019-07-31 количество событий начинает принимать значения, характерные для этого времени суток в последующие дни.  \n",
    "Рассмотрим подробнее промежуток 2019-07-31 18:00:00 - 2019-08-01 00:00:00."
   ]
  },
  {
   "cell_type": "code",
   "execution_count": 22,
   "metadata": {},
   "outputs": [
    {
     "data": {
      "image/png": "[encoded data removed]",
      "text/plain": [
       "<Figure size 864x432 with 1 Axes>"
      ]
     },
     "metadata": {
      "needs_background": "light"
     },
     "output_type": "display_data"
    }
   ],
   "source": [
    "plt.title('Гистограмма распределения событий в промежуток 2019-07-31 18:00:00 - 2019-08-01 00:00:00')\n",
    "plt.ylabel('Количество событий')\n",
    "data[(data[\n",
    "    'event_timestamp']<='2019-08-01 00:00:00')&(data['event_timestamp']>='2019-07-31 18:00:00')][\n",
    "    'event_timestamp'].hist(bins=100);"
   ]
  },
  {
   "cell_type": "markdown",
   "metadata": {},
   "source": [
    "Количество событий начинает принимать характерные значения около 21:00 31 июля. Судя по всему, это время начала теста.  "
   ]
  },
  {
   "cell_type": "code",
   "execution_count": 23,
   "metadata": {},
   "outputs": [],
   "source": [
    "data = data[data['event_timestamp']>='2019-07-31 21:00:00']"
   ]
  },
  {
   "cell_type": "code",
   "execution_count": 24,
   "metadata": {},
   "outputs": [
    {
     "name": "stdout",
     "output_type": "stream",
     "text": [
      "Всего событий после удаления неполных данных: 241724.\n",
      "Всего пользователей после удаления неполных данных: 7538.\n"
     ]
    }
   ],
   "source": [
    "print('Всего событий после удаления неполных данных: {}.'.format(data.shape[0]))\n",
    "print('Всего пользователей после удаления неполных данных: {}.'.format(data['user_id'].nunique()))"
   ]
  },
  {
   "cell_type": "markdown",
   "metadata": {},
   "source": [
    "Выясним, много ли событий мы потеряли."
   ]
  },
  {
   "cell_type": "code",
   "execution_count": 25,
   "metadata": {},
   "outputs": [
    {
     "name": "stdout",
     "output_type": "stream",
     "text": [
      "В результате удаления неполных данных потеряна информация о 1989 событиях, что составляет 0.82% от первоначального числа.\n"
     ]
    }
   ],
   "source": [
    "n_events_lost = n_events - data.shape[0]\n",
    "pct_events_lost = 1 - data.shape[0]/n_events\n",
    "print('В результате удаления неполных данных потеряна информация о {} событиях, что составляет \\\n",
    "{:.2%} от первоначального числа.'.format(n_events_lost, pct_events_lost))"
   ]
  },
  {
   "cell_type": "code",
   "execution_count": 26,
   "metadata": {},
   "outputs": [
    {
     "name": "stdout",
     "output_type": "stream",
     "text": [
      "В результате удаления неполных данных потеряна информация о 13 пользователях, что составляет 0.17% от первоначального числа.\n"
     ]
    }
   ],
   "source": [
    "n_users_lost = n_users - data['user_id'].nunique()\n",
    "pct_users_lost = 1 - data['user_id'].nunique()/n_users\n",
    "print('В результате удаления неполных данных потеряна информация о {} пользователях, что составляет \\\n",
    "{:.2%} от первоначального числа.'.format(n_users_lost, pct_users_lost))"
   ]
  },
  {
   "cell_type": "markdown",
   "metadata": {},
   "source": [
    "Количество отброшенных данных несущественно: 0.82% событий и 0.17% пользователей.  \n",
    "Убедимся, что у нас есть пользователи из всех трех экспериментальных групп.  "
   ]
  },
  {
   "cell_type": "code",
   "execution_count": 27,
   "metadata": {},
   "outputs": [
    {
     "data": {
      "text/html": [
       "<div>\n",
       "<style scoped>\n",
       "    .dataframe tbody tr th:only-of-type {\n",
       "        vertical-align: middle;\n",
       "    }\n",
       "\n",
       "    .dataframe tbody tr th {\n",
       "        vertical-align: top;\n",
       "    }\n",
       "\n",
       "    .dataframe thead th {\n",
       "        text-align: right;\n",
       "    }\n",
       "</style>\n",
       "<table border=\"1\" class=\"dataframe\">\n",
       "  <thead>\n",
       "    <tr style=\"text-align: right;\">\n",
       "      <th></th>\n",
       "      <th>user_id</th>\n",
       "    </tr>\n",
       "    <tr>\n",
       "      <th>exp_id</th>\n",
       "      <th></th>\n",
       "    </tr>\n",
       "  </thead>\n",
       "  <tbody>\n",
       "    <tr>\n",
       "      <th>246</th>\n",
       "      <td>2484</td>\n",
       "    </tr>\n",
       "    <tr>\n",
       "      <th>247</th>\n",
       "      <td>2517</td>\n",
       "    </tr>\n",
       "    <tr>\n",
       "      <th>248</th>\n",
       "      <td>2537</td>\n",
       "    </tr>\n",
       "  </tbody>\n",
       "</table>\n",
       "</div>"
      ],
      "text/plain": [
       "        user_id\n",
       "exp_id         \n",
       "246        2484\n",
       "247        2517\n",
       "248        2537"
      ]
     },
     "execution_count": 27,
     "metadata": {},
     "output_type": "execute_result"
    }
   ],
   "source": [
    "data.groupby('exp_id').agg({'user_id':'nunique'})"
   ]
  },
  {
   "cell_type": "markdown",
   "metadata": {},
   "source": [
    "**Выводы по проверке данных:**  \n",
    "* Изначально были доступны данные по 243713 событиям, совершенным 7551 пользователем.  \n",
    "* Распределение количества событий по пользователям сильно скошено вправо и имеет выбросы.  \n",
    "* Медианное количество событий на пользователя - 20.  \n",
    "* Выяснилось, что данные до 21:00 31 июля неполные и они были отброшены, в результате чего потеряны данные по 0.82% событий и 0.17% пользователей.  \n",
    "* В оставшихся данных имеются пользователи из всех трех экспериментальных групп.  \n"
   ]
  },
  {
   "cell_type": "markdown",
   "metadata": {},
   "source": [
    "[К содержанию](#Содержание)"
   ]
  },
  {
   "cell_type": "markdown",
   "metadata": {},
   "source": [
    "<a id='step1'></a>\n",
    "## 4. Изучение воронки событий  "
   ]
  },
  {
   "cell_type": "markdown",
   "metadata": {},
   "source": [
    "Посмотрим, какие события есть в логах и как часто они встречаются.  "
   ]
  },
  {
   "cell_type": "code",
   "execution_count": 28,
   "metadata": {},
   "outputs": [
    {
     "data": {
      "text/html": [
       "<div>\n",
       "<style scoped>\n",
       "    .dataframe tbody tr th:only-of-type {\n",
       "        vertical-align: middle;\n",
       "    }\n",
       "\n",
       "    .dataframe tbody tr th {\n",
       "        vertical-align: top;\n",
       "    }\n",
       "\n",
       "    .dataframe thead th {\n",
       "        text-align: right;\n",
       "    }\n",
       "</style>\n",
       "<table border=\"1\" class=\"dataframe\">\n",
       "  <thead>\n",
       "    <tr style=\"text-align: right;\">\n",
       "      <th></th>\n",
       "      <th>event_name</th>\n",
       "      <th>n_events</th>\n",
       "    </tr>\n",
       "  </thead>\n",
       "  <tbody>\n",
       "    <tr>\n",
       "      <th>1</th>\n",
       "      <td>MainScreenAppear</td>\n",
       "      <td>117889</td>\n",
       "    </tr>\n",
       "    <tr>\n",
       "      <th>2</th>\n",
       "      <td>OffersScreenAppear</td>\n",
       "      <td>46531</td>\n",
       "    </tr>\n",
       "    <tr>\n",
       "      <th>0</th>\n",
       "      <td>CartScreenAppear</td>\n",
       "      <td>42343</td>\n",
       "    </tr>\n",
       "    <tr>\n",
       "      <th>3</th>\n",
       "      <td>PaymentScreenSuccessful</td>\n",
       "      <td>33951</td>\n",
       "    </tr>\n",
       "    <tr>\n",
       "      <th>4</th>\n",
       "      <td>Tutorial</td>\n",
       "      <td>1010</td>\n",
       "    </tr>\n",
       "  </tbody>\n",
       "</table>\n",
       "</div>"
      ],
      "text/plain": [
       "                event_name  n_events\n",
       "1         MainScreenAppear    117889\n",
       "2       OffersScreenAppear     46531\n",
       "0         CartScreenAppear     42343\n",
       "3  PaymentScreenSuccessful     33951\n",
       "4                 Tutorial      1010"
      ]
     },
     "execution_count": 28,
     "metadata": {},
     "output_type": "execute_result"
    }
   ],
   "source": [
    "events = data.groupby('event_name', as_index=False).agg({'user_id':'count'})\n",
    "events = events.rename(columns={'user_id':'n_events'})\n",
    "events.sort_values('n_events', ascending=False)"
   ]
  },
  {
   "cell_type": "markdown",
   "metadata": {},
   "source": [
    "Самое часто встречающееся событие - просмотр главной страницы. Самое редкое событие - просмотр страницы с обучением. Либо пользователям и так все понятно, либо  возможность перехода на страницу с обучением не очевидна.  "
   ]
  },
  {
   "cell_type": "markdown",
   "metadata": {},
   "source": [
    "Посчитаем, сколько пользователей совершали то или иное событие."
   ]
  },
  {
   "cell_type": "code",
   "execution_count": 29,
   "metadata": {},
   "outputs": [
    {
     "data": {
      "text/html": [
       "<div>\n",
       "<style scoped>\n",
       "    .dataframe tbody tr th:only-of-type {\n",
       "        vertical-align: middle;\n",
       "    }\n",
       "\n",
       "    .dataframe tbody tr th {\n",
       "        vertical-align: top;\n",
       "    }\n",
       "\n",
       "    .dataframe thead th {\n",
       "        text-align: right;\n",
       "    }\n",
       "</style>\n",
       "<table border=\"1\" class=\"dataframe\">\n",
       "  <thead>\n",
       "    <tr style=\"text-align: right;\">\n",
       "      <th></th>\n",
       "      <th>event_name</th>\n",
       "      <th>n_users</th>\n",
       "      <th>users_share</th>\n",
       "    </tr>\n",
       "  </thead>\n",
       "  <tbody>\n",
       "    <tr>\n",
       "      <th>1</th>\n",
       "      <td>MainScreenAppear</td>\n",
       "      <td>7423</td>\n",
       "      <td>0.984744</td>\n",
       "    </tr>\n",
       "    <tr>\n",
       "      <th>2</th>\n",
       "      <td>OffersScreenAppear</td>\n",
       "      <td>4597</td>\n",
       "      <td>0.609843</td>\n",
       "    </tr>\n",
       "    <tr>\n",
       "      <th>0</th>\n",
       "      <td>CartScreenAppear</td>\n",
       "      <td>3736</td>\n",
       "      <td>0.495622</td>\n",
       "    </tr>\n",
       "    <tr>\n",
       "      <th>3</th>\n",
       "      <td>PaymentScreenSuccessful</td>\n",
       "      <td>3540</td>\n",
       "      <td>0.469621</td>\n",
       "    </tr>\n",
       "    <tr>\n",
       "      <th>4</th>\n",
       "      <td>Tutorial</td>\n",
       "      <td>843</td>\n",
       "      <td>0.111833</td>\n",
       "    </tr>\n",
       "  </tbody>\n",
       "</table>\n",
       "</div>"
      ],
      "text/plain": [
       "                event_name  n_users  users_share\n",
       "1         MainScreenAppear     7423     0.984744\n",
       "2       OffersScreenAppear     4597     0.609843\n",
       "0         CartScreenAppear     3736     0.495622\n",
       "3  PaymentScreenSuccessful     3540     0.469621\n",
       "4                 Tutorial      843     0.111833"
      ]
     },
     "execution_count": 29,
     "metadata": {},
     "output_type": "execute_result"
    }
   ],
   "source": [
    "events_by_users = data.groupby('event_name', as_index=False).agg({'user_id':'nunique'})\n",
    "events_by_users = events_by_users.rename(columns={'user_id':'n_users'})\n",
    "events_by_users['users_share'] = events_by_users['n_users']/data['user_id'].nunique()\n",
    "events_by_users.sort_values('n_users', ascending=False)"
   ]
  },
  {
   "cell_type": "markdown",
   "metadata": {},
   "source": [
    "Почти все пользователи видят главную страницу приложения. Только половина пользователей доходят до корзины, причем примерно 2.5% не удается завершить заказ."
   ]
  },
  {
   "cell_type": "markdown",
   "metadata": {},
   "source": [
    "Предполагаю, что события должны происходить в следующем порядке:  \n",
    "Просмотр главной страницы (MainScreenAppear) → Обучение (Tutorial) → Просмотр страницы с предолжениями (OffersScreenAppear) → Просмотр корзины (CartScreenAppear) → Сообщение об успешной оплате (PaymentScreenSuccessful).\n",
    "Видимо, обучение является опциональным, и его не нужно учитывать при расчете воронки.  "
   ]
  },
  {
   "cell_type": "markdown",
   "metadata": {},
   "source": [
    "Посчитаем, какая доля пользователей переходит на следующий шаг воронки. "
   ]
  },
  {
   "cell_type": "code",
   "execution_count": 30,
   "metadata": {},
   "outputs": [
    {
     "data": {
      "text/html": [
       "<div>\n",
       "<style scoped>\n",
       "    .dataframe tbody tr th:only-of-type {\n",
       "        vertical-align: middle;\n",
       "    }\n",
       "\n",
       "    .dataframe tbody tr th {\n",
       "        vertical-align: top;\n",
       "    }\n",
       "\n",
       "    .dataframe thead th {\n",
       "        text-align: right;\n",
       "    }\n",
       "</style>\n",
       "<table border=\"1\" class=\"dataframe\">\n",
       "  <thead>\n",
       "    <tr style=\"text-align: right;\">\n",
       "      <th></th>\n",
       "      <th>event_name</th>\n",
       "      <th>n_users</th>\n",
       "      <th>pct_change</th>\n",
       "    </tr>\n",
       "  </thead>\n",
       "  <tbody>\n",
       "    <tr>\n",
       "      <th>1</th>\n",
       "      <td>MainScreenAppear</td>\n",
       "      <td>7423</td>\n",
       "      <td>NaN</td>\n",
       "    </tr>\n",
       "    <tr>\n",
       "      <th>2</th>\n",
       "      <td>OffersScreenAppear</td>\n",
       "      <td>4597</td>\n",
       "      <td>-0.380709</td>\n",
       "    </tr>\n",
       "    <tr>\n",
       "      <th>0</th>\n",
       "      <td>CartScreenAppear</td>\n",
       "      <td>3736</td>\n",
       "      <td>-0.187296</td>\n",
       "    </tr>\n",
       "    <tr>\n",
       "      <th>3</th>\n",
       "      <td>PaymentScreenSuccessful</td>\n",
       "      <td>3540</td>\n",
       "      <td>-0.052463</td>\n",
       "    </tr>\n",
       "  </tbody>\n",
       "</table>\n",
       "</div>"
      ],
      "text/plain": [
       "                event_name  n_users  pct_change\n",
       "1         MainScreenAppear     7423         NaN\n",
       "2       OffersScreenAppear     4597   -0.380709\n",
       "0         CartScreenAppear     3736   -0.187296\n",
       "3  PaymentScreenSuccessful     3540   -0.052463"
      ]
     },
     "execution_count": 30,
     "metadata": {},
     "output_type": "execute_result"
    }
   ],
   "source": [
    "funnel = events_by_users[events_by_users[\n",
    "    'event_name'] != 'Tutorial'][['event_name', 'n_users']].sort_values('n_users', ascending=False)\n",
    "funnel['pct_change'] = funnel['n_users'].pct_change()\n",
    "funnel"
   ]
  },
  {
   "cell_type": "code",
   "execution_count": 31,
   "metadata": {},
   "outputs": [
    {
     "data": {
      "image/png": "[encoded data removed]",
      "text/plain": [
       "<Figure size 864x432 with 1 Axes>"
      ]
     },
     "metadata": {
      "needs_background": "light"
     },
     "output_type": "display_data"
    }
   ],
   "source": [
    "plt.barh(funnel.sort_values('n_users')['event_name'], funnel.sort_values('n_users')['n_users'])\n",
    "plt.title('Воронка событий')\n",
    "plt.ylabel('Событие')\n",
    "plt.xlabel('Количество пользователей, совершивших событие');"
   ]
  },
  {
   "cell_type": "markdown",
   "metadata": {},
   "source": [
    "Видно, что больше всего пользователей теряется при переходе от главной страницы к странице с товарами.  \n",
    "Рассчитаем долю пользователей, которые доходят от первого события до оплаты:"
   ]
  },
  {
   "cell_type": "code",
   "execution_count": 32,
   "metadata": {},
   "outputs": [
    {
     "name": "stdout",
     "output_type": "stream",
     "text": [
      "47.69%\n"
     ]
    }
   ],
   "source": [
    "print(f'{funnel.iloc[3,1]/funnel.iloc[0,1]:.2%}')"
   ]
  },
  {
   "cell_type": "markdown",
   "metadata": {},
   "source": [
    "**Выводы по анализу воронки событий:**\n",
    "* Выявлена проблема с главной страницей приложения. Очень немногие пользователи находят страницу с обучением, более того почти 40% пользователей не находят страницу с товарами.  \n",
    "* От первого шага до оплаты доходят только около 48 процентов пользователей.  "
   ]
  },
  {
   "cell_type": "markdown",
   "metadata": {},
   "source": [
    "[К содержанию](#Содержание)"
   ]
  },
  {
   "cell_type": "markdown",
   "metadata": {},
   "source": [
    "<a id='step1'></a>\n",
    "## 5. Изучение результатов эксперимента  "
   ]
  },
  {
   "cell_type": "markdown",
   "metadata": {},
   "source": [
    "246, 247 - контрольные группы  \n",
    "248 - экспериментальная группа  \n",
    "Посмотрим, сколько пользователей в каждой экспериментальной группе (включая объединенную экспериментальную группу):"
   ]
  },
  {
   "cell_type": "code",
   "execution_count": 33,
   "metadata": {},
   "outputs": [
    {
     "data": {
      "text/html": [
       "<div>\n",
       "<style scoped>\n",
       "    .dataframe tbody tr th:only-of-type {\n",
       "        vertical-align: middle;\n",
       "    }\n",
       "\n",
       "    .dataframe tbody tr th {\n",
       "        vertical-align: top;\n",
       "    }\n",
       "\n",
       "    .dataframe thead th {\n",
       "        text-align: right;\n",
       "    }\n",
       "</style>\n",
       "<table border=\"1\" class=\"dataframe\">\n",
       "  <thead>\n",
       "    <tr style=\"text-align: right;\">\n",
       "      <th></th>\n",
       "      <th>user_id</th>\n",
       "    </tr>\n",
       "    <tr>\n",
       "      <th>exp_id</th>\n",
       "      <th></th>\n",
       "    </tr>\n",
       "  </thead>\n",
       "  <tbody>\n",
       "    <tr>\n",
       "      <th>246</th>\n",
       "      <td>2484</td>\n",
       "    </tr>\n",
       "    <tr>\n",
       "      <th>247</th>\n",
       "      <td>2517</td>\n",
       "    </tr>\n",
       "    <tr>\n",
       "      <th>248</th>\n",
       "      <td>2537</td>\n",
       "    </tr>\n",
       "    <tr>\n",
       "      <th>combined</th>\n",
       "      <td>5001</td>\n",
       "    </tr>\n",
       "  </tbody>\n",
       "</table>\n",
       "</div>"
      ],
      "text/plain": [
       "          user_id\n",
       "exp_id           \n",
       "246          2484\n",
       "247          2517\n",
       "248          2537\n",
       "combined     5001"
      ]
     },
     "execution_count": 33,
     "metadata": {},
     "output_type": "execute_result"
    }
   ],
   "source": [
    "groups = data.groupby('exp_id').agg({'user_id':'nunique'})\n",
    "groups.loc['combined'] = groups.loc[246] + groups.loc[247]\n",
    "groups"
   ]
  },
  {
   "cell_type": "code",
   "execution_count": 34,
   "metadata": {},
   "outputs": [],
   "source": [
    "n_246 = int(groups.loc[246])\n",
    "n_247 = int(groups.loc[247])\n",
    "n_248 = int(groups.loc[248])"
   ]
  },
  {
   "cell_type": "markdown",
   "metadata": {},
   "source": [
    "Видно, что группы немного отличаются по количеству. Посмотрим на относительное различие между группами в процентах."
   ]
  },
  {
   "cell_type": "code",
   "execution_count": 35,
   "metadata": {},
   "outputs": [
    {
     "name": "stdout",
     "output_type": "stream",
     "text": [
      "Относительное различие в количестве между первой экспериментальной и контрольной группой: 2.13%\n"
     ]
    }
   ],
   "source": [
    "print('Относительное различие в количестве между первой экспериментальной \\\n",
    "и контрольной группой: {:.2%}'.format((n_248/n_246) - 1))"
   ]
  },
  {
   "cell_type": "code",
   "execution_count": 36,
   "metadata": {},
   "outputs": [
    {
     "name": "stdout",
     "output_type": "stream",
     "text": [
      "Относительное различие в количестве между второй экспериментальной и контрольной группой: 0.79%\n"
     ]
    }
   ],
   "source": [
    "print('Относительное различие в количестве между второй экспериментальной \\\n",
    "и контрольной группой: {:.2%}'.format((n_248/n_247) - 1))"
   ]
  },
  {
   "cell_type": "code",
   "execution_count": 37,
   "metadata": {},
   "outputs": [
    {
     "name": "stdout",
     "output_type": "stream",
     "text": [
      "Относительное различие в количестве между контрольными группами: 1.33%\n"
     ]
    }
   ],
   "source": [
    "print('Относительное различие в количестве между контрольными группами: {:.2%}'.format(\n",
    "    (n_247/n_246) - 1))"
   ]
  },
  {
   "cell_type": "markdown",
   "metadata": {},
   "source": [
    "Проверим, нет ли пользователей, попавших одновременно в разные группы."
   ]
  },
  {
   "cell_type": "code",
   "execution_count": 38,
   "metadata": {},
   "outputs": [],
   "source": [
    "users_246 = data[data['exp_id']==246]['user_id'].unique()\n",
    "users_247 = data[data['exp_id']==247]['user_id'].unique()\n",
    "users_248 = data[data['exp_id']==248]['user_id'].unique()"
   ]
  },
  {
   "cell_type": "code",
   "execution_count": 39,
   "metadata": {},
   "outputs": [
    {
     "data": {
      "text/plain": [
       "0"
      ]
     },
     "execution_count": 39,
     "metadata": {},
     "output_type": "execute_result"
    }
   ],
   "source": [
    "sum([(user_a in users_248) for user_a in users_246])"
   ]
  },
  {
   "cell_type": "code",
   "execution_count": 40,
   "metadata": {},
   "outputs": [
    {
     "data": {
      "text/plain": [
       "0"
      ]
     },
     "execution_count": 40,
     "metadata": {},
     "output_type": "execute_result"
    }
   ],
   "source": [
    "sum([(user_a in users_248) for user_a in users_247])"
   ]
  },
  {
   "cell_type": "code",
   "execution_count": 41,
   "metadata": {},
   "outputs": [
    {
     "data": {
      "text/plain": [
       "0"
      ]
     },
     "execution_count": 41,
     "metadata": {},
     "output_type": "execute_result"
    }
   ],
   "source": [
    "sum([(user_a in users_246) for user_a in users_247])"
   ]
  },
  {
   "cell_type": "markdown",
   "metadata": {},
   "source": [
    "Каждый пользователь попал только в одну группу. "
   ]
  },
  {
   "cell_type": "markdown",
   "metadata": {},
   "source": [
    "Проверим, находят ли статистические критерии разницу между контрольными выборками 246 и 247."
   ]
  },
  {
   "cell_type": "markdown",
   "metadata": {},
   "source": [
    "Посчитаем количество и долю пользователей, совершивших определенное событие в каждой из контрольных групп."
   ]
  },
  {
   "cell_type": "code",
   "execution_count": 42,
   "metadata": {},
   "outputs": [],
   "source": [
    "def num_events_in_group(group):\n",
    "    if group=='combined':\n",
    "        df = data[(data['exp_id']==246)|(data['exp_id']==247)]\n",
    "    else:\n",
    "        df = data[data['exp_id']==group]\n",
    "    events_by_users = df.groupby('event_name', as_index=False).agg({'user_id':'nunique'})\n",
    "    events_by_users = events_by_users.rename(columns={'user_id':'n_users'})\n",
    "    events_by_users['users_share'] = events_by_users['n_users']/df['user_id'].nunique()\n",
    "    return events_by_users.sort_values('n_users', ascending=False)"
   ]
  },
  {
   "cell_type": "code",
   "execution_count": 43,
   "metadata": {},
   "outputs": [
    {
     "data": {
      "text/html": [
       "<div>\n",
       "<style scoped>\n",
       "    .dataframe tbody tr th:only-of-type {\n",
       "        vertical-align: middle;\n",
       "    }\n",
       "\n",
       "    .dataframe tbody tr th {\n",
       "        vertical-align: top;\n",
       "    }\n",
       "\n",
       "    .dataframe thead th {\n",
       "        text-align: right;\n",
       "    }\n",
       "</style>\n",
       "<table border=\"1\" class=\"dataframe\">\n",
       "  <thead>\n",
       "    <tr style=\"text-align: right;\">\n",
       "      <th></th>\n",
       "      <th>event_name</th>\n",
       "      <th>n_users</th>\n",
       "      <th>users_share</th>\n",
       "    </tr>\n",
       "  </thead>\n",
       "  <tbody>\n",
       "    <tr>\n",
       "      <th>1</th>\n",
       "      <td>MainScreenAppear</td>\n",
       "      <td>2450</td>\n",
       "      <td>0.986312</td>\n",
       "    </tr>\n",
       "    <tr>\n",
       "      <th>2</th>\n",
       "      <td>OffersScreenAppear</td>\n",
       "      <td>1542</td>\n",
       "      <td>0.620773</td>\n",
       "    </tr>\n",
       "    <tr>\n",
       "      <th>0</th>\n",
       "      <td>CartScreenAppear</td>\n",
       "      <td>1266</td>\n",
       "      <td>0.509662</td>\n",
       "    </tr>\n",
       "    <tr>\n",
       "      <th>3</th>\n",
       "      <td>PaymentScreenSuccessful</td>\n",
       "      <td>1200</td>\n",
       "      <td>0.483092</td>\n",
       "    </tr>\n",
       "    <tr>\n",
       "      <th>4</th>\n",
       "      <td>Tutorial</td>\n",
       "      <td>278</td>\n",
       "      <td>0.111916</td>\n",
       "    </tr>\n",
       "  </tbody>\n",
       "</table>\n",
       "</div>"
      ],
      "text/plain": [
       "                event_name  n_users  users_share\n",
       "1         MainScreenAppear     2450     0.986312\n",
       "2       OffersScreenAppear     1542     0.620773\n",
       "0         CartScreenAppear     1266     0.509662\n",
       "3  PaymentScreenSuccessful     1200     0.483092\n",
       "4                 Tutorial      278     0.111916"
      ]
     },
     "execution_count": 43,
     "metadata": {},
     "output_type": "execute_result"
    }
   ],
   "source": [
    "events_246 = num_events_in_group(246)\n",
    "events_246"
   ]
  },
  {
   "cell_type": "code",
   "execution_count": 44,
   "metadata": {
    "scrolled": true
   },
   "outputs": [
    {
     "data": {
      "text/html": [
       "<div>\n",
       "<style scoped>\n",
       "    .dataframe tbody tr th:only-of-type {\n",
       "        vertical-align: middle;\n",
       "    }\n",
       "\n",
       "    .dataframe tbody tr th {\n",
       "        vertical-align: top;\n",
       "    }\n",
       "\n",
       "    .dataframe thead th {\n",
       "        text-align: right;\n",
       "    }\n",
       "</style>\n",
       "<table border=\"1\" class=\"dataframe\">\n",
       "  <thead>\n",
       "    <tr style=\"text-align: right;\">\n",
       "      <th></th>\n",
       "      <th>event_name</th>\n",
       "      <th>n_users</th>\n",
       "      <th>users_share</th>\n",
       "    </tr>\n",
       "  </thead>\n",
       "  <tbody>\n",
       "    <tr>\n",
       "      <th>1</th>\n",
       "      <td>MainScreenAppear</td>\n",
       "      <td>2479</td>\n",
       "      <td>0.984903</td>\n",
       "    </tr>\n",
       "    <tr>\n",
       "      <th>2</th>\n",
       "      <td>OffersScreenAppear</td>\n",
       "      <td>1524</td>\n",
       "      <td>0.605483</td>\n",
       "    </tr>\n",
       "    <tr>\n",
       "      <th>0</th>\n",
       "      <td>CartScreenAppear</td>\n",
       "      <td>1239</td>\n",
       "      <td>0.492253</td>\n",
       "    </tr>\n",
       "    <tr>\n",
       "      <th>3</th>\n",
       "      <td>PaymentScreenSuccessful</td>\n",
       "      <td>1158</td>\n",
       "      <td>0.460072</td>\n",
       "    </tr>\n",
       "    <tr>\n",
       "      <th>4</th>\n",
       "      <td>Tutorial</td>\n",
       "      <td>284</td>\n",
       "      <td>0.112833</td>\n",
       "    </tr>\n",
       "  </tbody>\n",
       "</table>\n",
       "</div>"
      ],
      "text/plain": [
       "                event_name  n_users  users_share\n",
       "1         MainScreenAppear     2479     0.984903\n",
       "2       OffersScreenAppear     1524     0.605483\n",
       "0         CartScreenAppear     1239     0.492253\n",
       "3  PaymentScreenSuccessful     1158     0.460072\n",
       "4                 Tutorial      284     0.112833"
      ]
     },
     "execution_count": 44,
     "metadata": {},
     "output_type": "execute_result"
    }
   ],
   "source": [
    "events_247 = num_events_in_group(247)\n",
    "events_247"
   ]
  },
  {
   "cell_type": "code",
   "execution_count": 45,
   "metadata": {},
   "outputs": [
    {
     "data": {
      "text/html": [
       "<div>\n",
       "<style scoped>\n",
       "    .dataframe tbody tr th:only-of-type {\n",
       "        vertical-align: middle;\n",
       "    }\n",
       "\n",
       "    .dataframe tbody tr th {\n",
       "        vertical-align: top;\n",
       "    }\n",
       "\n",
       "    .dataframe thead th {\n",
       "        text-align: right;\n",
       "    }\n",
       "</style>\n",
       "<table border=\"1\" class=\"dataframe\">\n",
       "  <thead>\n",
       "    <tr style=\"text-align: right;\">\n",
       "      <th></th>\n",
       "      <th>event_name</th>\n",
       "      <th>n_users</th>\n",
       "      <th>users_share</th>\n",
       "    </tr>\n",
       "  </thead>\n",
       "  <tbody>\n",
       "    <tr>\n",
       "      <th>1</th>\n",
       "      <td>MainScreenAppear</td>\n",
       "      <td>4929</td>\n",
       "      <td>0.985603</td>\n",
       "    </tr>\n",
       "    <tr>\n",
       "      <th>2</th>\n",
       "      <td>OffersScreenAppear</td>\n",
       "      <td>3066</td>\n",
       "      <td>0.613077</td>\n",
       "    </tr>\n",
       "    <tr>\n",
       "      <th>0</th>\n",
       "      <td>CartScreenAppear</td>\n",
       "      <td>2505</td>\n",
       "      <td>0.500900</td>\n",
       "    </tr>\n",
       "    <tr>\n",
       "      <th>3</th>\n",
       "      <td>PaymentScreenSuccessful</td>\n",
       "      <td>2358</td>\n",
       "      <td>0.471506</td>\n",
       "    </tr>\n",
       "    <tr>\n",
       "      <th>4</th>\n",
       "      <td>Tutorial</td>\n",
       "      <td>562</td>\n",
       "      <td>0.112378</td>\n",
       "    </tr>\n",
       "  </tbody>\n",
       "</table>\n",
       "</div>"
      ],
      "text/plain": [
       "                event_name  n_users  users_share\n",
       "1         MainScreenAppear     4929     0.985603\n",
       "2       OffersScreenAppear     3066     0.613077\n",
       "0         CartScreenAppear     2505     0.500900\n",
       "3  PaymentScreenSuccessful     2358     0.471506\n",
       "4                 Tutorial      562     0.112378"
      ]
     },
     "execution_count": 45,
     "metadata": {},
     "output_type": "execute_result"
    }
   ],
   "source": [
    "events_combined = num_events_in_group('combined')\n",
    "events_combined"
   ]
  },
  {
   "cell_type": "markdown",
   "metadata": {},
   "source": [
    "Проверим, являются ли разности в долях пользователей, совершивших определенное событие в разных контрольных группах статистически значимыми. Уровень значимости $\\alpha$ примем равным 0.05."
   ]
  },
  {
   "cell_type": "code",
   "execution_count": 46,
   "metadata": {},
   "outputs": [],
   "source": [
    "alpha = 0.05"
   ]
  },
  {
   "cell_type": "markdown",
   "metadata": {},
   "source": [
    "Поскольку мы будем сравнивать доли пользователей, совершивших каждое из пяти событий между группами 246-247, 246-248, 247-248 и объединенной контрольной и 248 на одних и тех же данных, необходимо скорректировать уровень значимости. Всего получается $5*4=20$ проверок. Воспользуемся методом Бонферрони. "
   ]
  },
  {
   "cell_type": "code",
   "execution_count": 47,
   "metadata": {},
   "outputs": [],
   "source": [
    "alpha_corrected = alpha/20"
   ]
  },
  {
   "cell_type": "code",
   "execution_count": 48,
   "metadata": {},
   "outputs": [],
   "source": [
    "def stat_check(group_a, group_b, alpha):\n",
    "    for event in data['event_name'].unique():\n",
    "        data_a = num_events_in_group(group_a)\n",
    "        data_b = num_events_in_group(group_b)\n",
    "        p1 = float(data_a.loc[data_a['event_name']==event, 'users_share'])\n",
    "        p2 = float(data_b.loc[data_b['event_name']==event, 'users_share'])\n",
    "        p_combined = (int(data_a.loc[data_a['event_name']==event, 'n_users']) + \\\n",
    "                   int(data_b.loc[data_b['event_name']==event, 'n_users']))/\\\n",
    "                   (int(groups.loc[group_a]) + int(groups.loc[group_b]))\n",
    "        difference = p1 - p2\n",
    "        z_value = difference/(math.sqrt(p_combined*(1-p_combined)*((1/int(groups.loc[group_a]))+(\n",
    "        1/int(groups.loc[group_b])))))\n",
    "        distr = st.norm(0,1)\n",
    "        p_value = (1 - distr.cdf(abs(z_value)))*2\n",
    "        print('Гипотеза H0: доли пользователей, совершивших событие {} в группах {} и {} не различаются'\n",
    "          .format(event, group_a, group_b))\n",
    "        print('Гипотеза H1: доли пользователей, совершивших событие {} в группах {} и {} различаются'\n",
    "          .format(event, group_a, group_b))\n",
    "        print('p-значение: {:.3f}'.format(p_value))\n",
    "        if p_value<alpha:\n",
    "            print('Отвергаем H0.')\n",
    "        else:\n",
    "            print('Не отвергаем H0.')\n",
    "            print()"
   ]
  },
  {
   "cell_type": "code",
   "execution_count": 49,
   "metadata": {},
   "outputs": [
    {
     "name": "stdout",
     "output_type": "stream",
     "text": [
      "Гипотеза H0: доли пользователей, совершивших событие MainScreenAppear в группах 246 и 247 не различаются\n",
      "Гипотеза H1: доли пользователей, совершивших событие MainScreenAppear в группах 246 и 247 различаются\n",
      "p-значение: 0.676\n",
      "Не отвергаем H0.\n",
      "\n",
      "Гипотеза H0: доли пользователей, совершивших событие OffersScreenAppear в группах 246 и 247 не различаются\n",
      "Гипотеза H1: доли пользователей, совершивших событие OffersScreenAppear в группах 246 и 247 различаются\n",
      "p-значение: 0.267\n",
      "Не отвергаем H0.\n",
      "\n",
      "Гипотеза H0: доли пользователей, совершивших событие PaymentScreenSuccessful в группах 246 и 247 не различаются\n",
      "Гипотеза H1: доли пользователей, совершивших событие PaymentScreenSuccessful в группах 246 и 247 различаются\n",
      "p-значение: 0.103\n",
      "Не отвергаем H0.\n",
      "\n",
      "Гипотеза H0: доли пользователей, совершивших событие CartScreenAppear в группах 246 и 247 не различаются\n",
      "Гипотеза H1: доли пользователей, совершивших событие CartScreenAppear в группах 246 и 247 различаются\n",
      "p-значение: 0.218\n",
      "Не отвергаем H0.\n",
      "\n",
      "Гипотеза H0: доли пользователей, совершивших событие Tutorial в группах 246 и 247 не различаются\n",
      "Гипотеза H1: доли пользователей, совершивших событие Tutorial в группах 246 и 247 различаются\n",
      "p-значение: 0.918\n",
      "Не отвергаем H0.\n",
      "\n"
     ]
    }
   ],
   "source": [
    "stat_check(246, 247, alpha_corrected)"
   ]
  },
  {
   "cell_type": "markdown",
   "metadata": {},
   "source": [
    "Статистически значимого различия между долями пользователей в двух контрольных группах не обнаружено. Разбиение на группы работает корректно.  \n",
    "Сравним результаты каждой из контрольных групп с группой с измененным шрифтом.  "
   ]
  },
  {
   "cell_type": "code",
   "execution_count": 50,
   "metadata": {},
   "outputs": [
    {
     "name": "stdout",
     "output_type": "stream",
     "text": [
      "Гипотеза H0: доли пользователей, совершивших событие MainScreenAppear в группах 246 и 248 не различаются\n",
      "Гипотеза H1: доли пользователей, совершивших событие MainScreenAppear в группах 246 и 248 различаются\n",
      "p-значение: 0.347\n",
      "Не отвергаем H0.\n",
      "\n",
      "Гипотеза H0: доли пользователей, совершивших событие OffersScreenAppear в группах 246 и 248 не различаются\n",
      "Гипотеза H1: доли пользователей, совершивших событие OffersScreenAppear в группах 246 и 248 различаются\n",
      "p-значение: 0.208\n",
      "Не отвергаем H0.\n",
      "\n",
      "Гипотеза H0: доли пользователей, совершивших событие PaymentScreenSuccessful в группах 246 и 248 не различаются\n",
      "Гипотеза H1: доли пользователей, совершивших событие PaymentScreenSuccessful в группах 246 и 248 различаются\n",
      "p-значение: 0.223\n",
      "Не отвергаем H0.\n",
      "\n",
      "Гипотеза H0: доли пользователей, совершивших событие CartScreenAppear в группах 246 и 248 не различаются\n",
      "Гипотеза H1: доли пользователей, совершивших событие CartScreenAppear в группах 246 и 248 различаются\n",
      "p-значение: 0.083\n",
      "Не отвергаем H0.\n",
      "\n",
      "Гипотеза H0: доли пользователей, совершивших событие Tutorial в группах 246 и 248 не различаются\n",
      "Гипотеза H1: доли пользователей, совершивших событие Tutorial в группах 246 и 248 различаются\n",
      "p-значение: 0.896\n",
      "Не отвергаем H0.\n",
      "\n"
     ]
    }
   ],
   "source": [
    "# Сравниваем с первой контрольной группой:\n",
    "stat_check(246, 248, alpha_corrected)"
   ]
  },
  {
   "cell_type": "code",
   "execution_count": 51,
   "metadata": {},
   "outputs": [
    {
     "name": "stdout",
     "output_type": "stream",
     "text": [
      "Гипотеза H0: доли пользователей, совершивших событие MainScreenAppear в группах 247 и 248 не различаются\n",
      "Гипотеза H1: доли пользователей, совершивших событие MainScreenAppear в группах 247 и 248 различаются\n",
      "p-значение: 0.600\n",
      "Не отвергаем H0.\n",
      "\n",
      "Гипотеза H0: доли пользователей, совершивших событие OffersScreenAppear в группах 247 и 248 не различаются\n",
      "Гипотеза H1: доли пользователей, совершивших событие OffersScreenAppear в группах 247 и 248 различаются\n",
      "p-значение: 0.884\n",
      "Не отвергаем H0.\n",
      "\n",
      "Гипотеза H0: доли пользователей, совершивших событие PaymentScreenSuccessful в группах 247 и 248 не различаются\n",
      "Гипотеза H1: доли пользователей, совершивших событие PaymentScreenSuccessful в группах 247 и 248 различаются\n",
      "p-значение: 0.678\n",
      "Не отвергаем H0.\n",
      "\n",
      "Гипотеза H0: доли пользователей, совершивших событие CartScreenAppear в группах 247 и 248 не различаются\n",
      "Гипотеза H1: доли пользователей, совершивших событие CartScreenAppear в группах 247 и 248 различаются\n",
      "p-значение: 0.617\n",
      "Не отвергаем H0.\n",
      "\n",
      "Гипотеза H0: доли пользователей, совершивших событие Tutorial в группах 247 и 248 не различаются\n",
      "Гипотеза H1: доли пользователей, совершивших событие Tutorial в группах 247 и 248 различаются\n",
      "p-значение: 0.815\n",
      "Не отвергаем H0.\n",
      "\n"
     ]
    }
   ],
   "source": [
    "# Сравниваем со второй контрольной группой:\n",
    "stat_check(247, 248, alpha_corrected)"
   ]
  },
  {
   "cell_type": "markdown",
   "metadata": {},
   "source": [
    "Сравним результаты с объединенной контрольной группой."
   ]
  },
  {
   "cell_type": "code",
   "execution_count": 52,
   "metadata": {},
   "outputs": [
    {
     "name": "stdout",
     "output_type": "stream",
     "text": [
      "Гипотеза H0: доли пользователей, совершивших событие MainScreenAppear в группах combined и 248 не различаются\n",
      "Гипотеза H1: доли пользователей, совершивших событие MainScreenAppear в группах combined и 248 различаются\n",
      "p-значение: 0.393\n",
      "Не отвергаем H0.\n",
      "\n",
      "Гипотеза H0: доли пользователей, совершивших событие OffersScreenAppear в группах combined и 248 не различаются\n",
      "Гипотеза H1: доли пользователей, совершивших событие OffersScreenAppear в группах combined и 248 различаются\n",
      "p-значение: 0.419\n",
      "Не отвергаем H0.\n",
      "\n",
      "Гипотеза H0: доли пользователей, совершивших событие PaymentScreenSuccessful в группах combined и 248 не различаются\n",
      "Гипотеза H1: доли пользователей, совершивших событие PaymentScreenSuccessful в группах combined и 248 различаются\n",
      "p-значение: 0.645\n",
      "Не отвергаем H0.\n",
      "\n",
      "Гипотеза H0: доли пользователей, совершивших событие CartScreenAppear в группах combined и 248 не различаются\n",
      "Гипотеза H1: доли пользователей, совершивших событие CartScreenAppear в группах combined и 248 различаются\n",
      "p-значение: 0.198\n",
      "Не отвергаем H0.\n",
      "\n",
      "Гипотеза H0: доли пользователей, совершивших событие Tutorial в группах combined и 248 не различаются\n",
      "Гипотеза H1: доли пользователей, совершивших событие Tutorial в группах combined и 248 различаются\n",
      "p-значение: 0.833\n",
      "Не отвергаем H0.\n",
      "\n"
     ]
    }
   ],
   "source": [
    "stat_check('combined', 248, alpha_corrected)"
   ]
  },
  {
   "cell_type": "markdown",
   "metadata": {},
   "source": [
    "**Вывод:**  \n",
    "Статистически значимой разницы между долями пользователей, совершивших то или иное событие в группах со старым шрифтом и новым шрифтом не выявлено. "
   ]
  },
  {
   "cell_type": "markdown",
   "metadata": {},
   "source": [
    "[К содержанию](#Содержание)"
   ]
  },
  {
   "cell_type": "markdown",
   "metadata": {},
   "source": [
    "<a id='step1'></a>\n",
    "## 6. Общий вывод  \n",
    "* Изначально были доступны данные по 243713 событиям, совершенным 7551 пользователями. В ходе проверки выяснилось, что данные до 21:00 31 июля 2019 года неполные, и они были исключены из дальнейшего анализа. Потери незначительны: исключены 0.82% событий и 0.77% пользователей.  \n",
    "* Анализ воронки событий выявил следующие проблемы:\n",
    " * только 48% пользователей доходят от просмотра главной страницы до оплаты,  \n",
    " * 38% пользователей, оказавшихся на главной странице, не переходят на страницу с товарами,  \n",
    " * страницу с обучением используют только 11%.  \n",
    " Следовательно, необходимо детально изучить главную страницу, и понять, в чем может быть проблема.  \n",
    "* Изучение результатов экспериметна показало, что нет оснований считать, что изменение шрифта в приложении влияет на долю пользователей, совершающих то или иное событие. Значит, шрифт можно изменить.  \n",
    "\n",
    "[К содержанию](#Содержание)"
   ]
  },
  {
   "cell_type": "code",
   "execution_count": null,
   "metadata": {},
   "outputs": [],
   "source": []
  }
 ],
 "metadata": {
  "kernelspec": {
   "display_name": "Python 3",
   "language": "python",
   "name": "python3"
  },
  "language_info": {
   "codemirror_mode": {
    "name": "ipython",
    "version": 3
   },
   "file_extension": ".py",
   "mimetype": "text/x-python",
   "name": "python",
   "nbconvert_exporter": "python",
   "pygments_lexer": "ipython3",
   "version": "3.8.3"
  }
 },
 "nbformat": 4,
 "nbformat_minor": 2
}
