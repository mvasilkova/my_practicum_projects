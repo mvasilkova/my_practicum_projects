{
 "cells": [
  {
   "cell_type": "markdown",
   "metadata": {},
   "source": [
    "# Исследование рынка заведений общественного питания Москвы"
   ]
  },
  {
   "cell_type": "markdown",
   "metadata": {},
   "source": [
    "## Содержание\n",
    "1. [Описание проекта](#step1)\n",
    "2. [Предобработка данных](#step2)  \n",
    "3. [Анализ данных и построение графиков](#step3)  \n",
    "3.1. [Исследование соотношения видов объектов общественного питания по количеству](#step31)  \n",
    "3.2. [Cоотношение сетевых и несетевых заведений по количеству](#step32)  \n",
    "3.3. [Сравнение доли сетевых и несетевых заведений по видам](#step33)  \n",
    "3.4. [Исследование взаимосвязи числа посадочных мест и сетевого \n",
    "распространения](#step34)  \n",
    "3.5. [Среднее количество посадочных мест для разных видов объектов общественного питания](#step35)  \n",
    "3.6. [Топ-10 улиц Москвы по количеству объектов общественного питания](#step36)  \n",
    "3.7. [Улицы с одним объектом общественного питания](#step37)  \n",
    "3.8. [Распределение количества посадочных мест для улиц с большим количеством объектов общественного питания](#step38)\n",
    "4. [Общий вывод](#step4)"
   ]
  },
  {
   "cell_type": "markdown",
   "metadata": {},
   "source": [
    "## 1. Описание проекта\n",
    "\n",
    "**Задача:** исследовать рынок и подготовить презентацию для инвесторов с целью получения средств на открытие заведения общественного питания с роботами-официантами в г.Москве.  \n",
    "\n",
    "**Данные:**   \n",
    "Таблица `rest_data`:  \n",
    "`id` — идентификатор объекта;  \n",
    "`object_name` — название объекта общественного питания;  \n",
    "`chain` — сетевой ресторан;  \n",
    "`object_type` — тип объекта общественного питания;  \n",
    "`address` — адрес;  \n",
    "`number`— количество посадочных мест.  "
   ]
  },
  {
   "cell_type": "code",
   "execution_count": 1,
   "metadata": {},
   "outputs": [],
   "source": [
    "import pandas as pd\n",
    "import numpy as np\n",
    "import matplotlib as mpl\n",
    "from matplotlib import pyplot as plt\n",
    "import seaborn as sns\n",
    "import re\n",
    "import requests\n",
    "from bs4 import BeautifulSoup"
   ]
  },
  {
   "cell_type": "code",
   "execution_count": 2,
   "metadata": {},
   "outputs": [],
   "source": [
    "mpl.rcParams['figure.figsize'] = (12,6)\n",
    "mpl.rcParams['axes.spines.right'] = False\n",
    "mpl.rcParams['axes.spines.top'] = False\n",
    "import warnings\n",
    "warnings.simplefilter('ignore')"
   ]
  },
  {
   "cell_type": "code",
   "execution_count": 3,
   "metadata": {},
   "outputs": [],
   "source": [
    "plt.style.use('seaborn-notebook')"
   ]
  },
  {
   "cell_type": "code",
   "execution_count": 4,
   "metadata": {},
   "outputs": [],
   "source": [
    " data = pd.read_csv('datasets/rest_data.csv')"
   ]
  },
  {
   "cell_type": "markdown",
   "metadata": {},
   "source": [
    "<a id='step2'></a>\n",
    "## 2. Предобработка данных "
   ]
  },
  {
   "cell_type": "code",
   "execution_count": 5,
   "metadata": {},
   "outputs": [
    {
     "data": {
      "text/html": [
       "<div>\n",
       "<style scoped>\n",
       "    .dataframe tbody tr th:only-of-type {\n",
       "        vertical-align: middle;\n",
       "    }\n",
       "\n",
       "    .dataframe tbody tr th {\n",
       "        vertical-align: top;\n",
       "    }\n",
       "\n",
       "    .dataframe thead th {\n",
       "        text-align: right;\n",
       "    }\n",
       "</style>\n",
       "<table border=\"1\" class=\"dataframe\">\n",
       "  <thead>\n",
       "    <tr style=\"text-align: right;\">\n",
       "      <th></th>\n",
       "      <th>id</th>\n",
       "      <th>object_name</th>\n",
       "      <th>chain</th>\n",
       "      <th>object_type</th>\n",
       "      <th>address</th>\n",
       "      <th>number</th>\n",
       "    </tr>\n",
       "  </thead>\n",
       "  <tbody>\n",
       "    <tr>\n",
       "      <th>0</th>\n",
       "      <td>151635</td>\n",
       "      <td>СМЕТАНА</td>\n",
       "      <td>нет</td>\n",
       "      <td>кафе</td>\n",
       "      <td>город Москва, улица Егора Абакумова, дом 9</td>\n",
       "      <td>48</td>\n",
       "    </tr>\n",
       "    <tr>\n",
       "      <th>1</th>\n",
       "      <td>77874</td>\n",
       "      <td>Родник</td>\n",
       "      <td>нет</td>\n",
       "      <td>кафе</td>\n",
       "      <td>город Москва, улица Талалихина, дом 2/1, корпус 1</td>\n",
       "      <td>35</td>\n",
       "    </tr>\n",
       "    <tr>\n",
       "      <th>2</th>\n",
       "      <td>24309</td>\n",
       "      <td>Кафе «Академия»</td>\n",
       "      <td>нет</td>\n",
       "      <td>кафе</td>\n",
       "      <td>город Москва, Абельмановская улица, дом 6</td>\n",
       "      <td>95</td>\n",
       "    </tr>\n",
       "    <tr>\n",
       "      <th>3</th>\n",
       "      <td>21894</td>\n",
       "      <td>ПИЦЦЕТОРИЯ</td>\n",
       "      <td>да</td>\n",
       "      <td>кафе</td>\n",
       "      <td>город Москва, Абрамцевская улица, дом 1</td>\n",
       "      <td>40</td>\n",
       "    </tr>\n",
       "    <tr>\n",
       "      <th>4</th>\n",
       "      <td>119365</td>\n",
       "      <td>Кафе «Вишневая метель»</td>\n",
       "      <td>нет</td>\n",
       "      <td>кафе</td>\n",
       "      <td>город Москва, Абрамцевская улица, дом 9, корпус 1</td>\n",
       "      <td>50</td>\n",
       "    </tr>\n",
       "  </tbody>\n",
       "</table>\n",
       "</div>"
      ],
      "text/plain": [
       "       id             object_name chain object_type  \\\n",
       "0  151635                 СМЕТАНА   нет        кафе   \n",
       "1   77874                  Родник   нет        кафе   \n",
       "2   24309         Кафе «Академия»   нет        кафе   \n",
       "3   21894              ПИЦЦЕТОРИЯ    да        кафе   \n",
       "4  119365  Кафе «Вишневая метель»   нет        кафе   \n",
       "\n",
       "                                             address  number  \n",
       "0         город Москва, улица Егора Абакумова, дом 9      48  \n",
       "1  город Москва, улица Талалихина, дом 2/1, корпус 1      35  \n",
       "2          город Москва, Абельмановская улица, дом 6      95  \n",
       "3            город Москва, Абрамцевская улица, дом 1      40  \n",
       "4  город Москва, Абрамцевская улица, дом 9, корпус 1      50  "
      ]
     },
     "execution_count": 5,
     "metadata": {},
     "output_type": "execute_result"
    }
   ],
   "source": [
    "data.head()"
   ]
  },
  {
   "cell_type": "code",
   "execution_count": 6,
   "metadata": {},
   "outputs": [
    {
     "name": "stdout",
     "output_type": "stream",
     "text": [
      "<class 'pandas.core.frame.DataFrame'>\n",
      "RangeIndex: 15366 entries, 0 to 15365\n",
      "Data columns (total 6 columns):\n",
      " #   Column       Non-Null Count  Dtype \n",
      "---  ------       --------------  ----- \n",
      " 0   id           15366 non-null  int64 \n",
      " 1   object_name  15366 non-null  object\n",
      " 2   chain        15366 non-null  object\n",
      " 3   object_type  15366 non-null  object\n",
      " 4   address      15366 non-null  object\n",
      " 5   number       15366 non-null  int64 \n",
      "dtypes: int64(2), object(4)\n",
      "memory usage: 720.4+ KB\n"
     ]
    }
   ],
   "source": [
    "data.info()"
   ]
  },
  {
   "cell_type": "code",
   "execution_count": 7,
   "metadata": {},
   "outputs": [
    {
     "data": {
      "text/html": [
       "<div>\n",
       "<style scoped>\n",
       "    .dataframe tbody tr th:only-of-type {\n",
       "        vertical-align: middle;\n",
       "    }\n",
       "\n",
       "    .dataframe tbody tr th {\n",
       "        vertical-align: top;\n",
       "    }\n",
       "\n",
       "    .dataframe thead th {\n",
       "        text-align: right;\n",
       "    }\n",
       "</style>\n",
       "<table border=\"1\" class=\"dataframe\">\n",
       "  <thead>\n",
       "    <tr style=\"text-align: right;\">\n",
       "      <th></th>\n",
       "      <th>id</th>\n",
       "      <th>number</th>\n",
       "    </tr>\n",
       "  </thead>\n",
       "  <tbody>\n",
       "    <tr>\n",
       "      <th>count</th>\n",
       "      <td>15366.000000</td>\n",
       "      <td>15366.000000</td>\n",
       "    </tr>\n",
       "    <tr>\n",
       "      <th>mean</th>\n",
       "      <td>119720.066901</td>\n",
       "      <td>59.547182</td>\n",
       "    </tr>\n",
       "    <tr>\n",
       "      <th>std</th>\n",
       "      <td>73036.130732</td>\n",
       "      <td>74.736833</td>\n",
       "    </tr>\n",
       "    <tr>\n",
       "      <th>min</th>\n",
       "      <td>838.000000</td>\n",
       "      <td>0.000000</td>\n",
       "    </tr>\n",
       "    <tr>\n",
       "      <th>25%</th>\n",
       "      <td>28524.000000</td>\n",
       "      <td>12.000000</td>\n",
       "    </tr>\n",
       "    <tr>\n",
       "      <th>50%</th>\n",
       "      <td>144974.500000</td>\n",
       "      <td>40.000000</td>\n",
       "    </tr>\n",
       "    <tr>\n",
       "      <th>75%</th>\n",
       "      <td>184262.250000</td>\n",
       "      <td>80.000000</td>\n",
       "    </tr>\n",
       "    <tr>\n",
       "      <th>max</th>\n",
       "      <td>223439.000000</td>\n",
       "      <td>1700.000000</td>\n",
       "    </tr>\n",
       "  </tbody>\n",
       "</table>\n",
       "</div>"
      ],
      "text/plain": [
       "                  id        number\n",
       "count   15366.000000  15366.000000\n",
       "mean   119720.066901     59.547182\n",
       "std     73036.130732     74.736833\n",
       "min       838.000000      0.000000\n",
       "25%     28524.000000     12.000000\n",
       "50%    144974.500000     40.000000\n",
       "75%    184262.250000     80.000000\n",
       "max    223439.000000   1700.000000"
      ]
     },
     "execution_count": 7,
     "metadata": {},
     "output_type": "execute_result"
    }
   ],
   "source": [
    "data.describe()"
   ]
  },
  {
   "cell_type": "code",
   "execution_count": 8,
   "metadata": {},
   "outputs": [
    {
     "data": {
      "text/plain": [
       "0"
      ]
     },
     "execution_count": 8,
     "metadata": {},
     "output_type": "execute_result"
    }
   ],
   "source": [
    "data.duplicated().sum()"
   ]
  },
  {
   "cell_type": "markdown",
   "metadata": {},
   "source": [
    "**Выводы по предобработке:**\n",
    "* Доступны данные о 15366 объектах;  \n",
    "* Пропусков в данных нет;  \n",
    "* Дубликатов не обнаружено;  \n",
    "* Типы переменных соответствуют их содержанию.  "
   ]
  },
  {
   "cell_type": "markdown",
   "metadata": {},
   "source": [
    "<a id='step3'></a>\n",
    "## 3. Анализ данных и построение графиков  "
   ]
  },
  {
   "cell_type": "markdown",
   "metadata": {},
   "source": [
    "<a id='step31'></a>\n",
    "**3.1. Исследование соотношения видов объектов общественного питания по количеству**"
   ]
  },
  {
   "cell_type": "code",
   "execution_count": 9,
   "metadata": {},
   "outputs": [
    {
     "data": {
      "text/html": [
       "<div>\n",
       "<style scoped>\n",
       "    .dataframe tbody tr th:only-of-type {\n",
       "        vertical-align: middle;\n",
       "    }\n",
       "\n",
       "    .dataframe tbody tr th {\n",
       "        vertical-align: top;\n",
       "    }\n",
       "\n",
       "    .dataframe thead th {\n",
       "        text-align: right;\n",
       "    }\n",
       "</style>\n",
       "<table border=\"1\" class=\"dataframe\">\n",
       "  <thead>\n",
       "    <tr style=\"text-align: right;\">\n",
       "      <th></th>\n",
       "      <th>object_type</th>\n",
       "      <th>count</th>\n",
       "    </tr>\n",
       "  </thead>\n",
       "  <tbody>\n",
       "    <tr>\n",
       "      <th>3</th>\n",
       "      <td>кафе</td>\n",
       "      <td>6099</td>\n",
       "    </tr>\n",
       "    <tr>\n",
       "      <th>8</th>\n",
       "      <td>столовая</td>\n",
       "      <td>2587</td>\n",
       "    </tr>\n",
       "    <tr>\n",
       "      <th>7</th>\n",
       "      <td>ресторан</td>\n",
       "      <td>2285</td>\n",
       "    </tr>\n",
       "    <tr>\n",
       "      <th>6</th>\n",
       "      <td>предприятие быстрого обслуживания</td>\n",
       "      <td>1923</td>\n",
       "    </tr>\n",
       "    <tr>\n",
       "      <th>0</th>\n",
       "      <td>бар</td>\n",
       "      <td>856</td>\n",
       "    </tr>\n",
       "  </tbody>\n",
       "</table>\n",
       "</div>"
      ],
      "text/plain": [
       "                         object_type  count\n",
       "3                               кафе   6099\n",
       "8                           столовая   2587\n",
       "7                           ресторан   2285\n",
       "6  предприятие быстрого обслуживания   1923\n",
       "0                                бар    856"
      ]
     },
     "execution_count": 9,
     "metadata": {},
     "output_type": "execute_result"
    }
   ],
   "source": [
    "grouped_by_type = data.groupby('object_type', as_index=False).agg(\n",
    "    {'id':'count'}).sort_values('id')\n",
    "grouped_by_type = grouped_by_type.rename(columns={'id':'count'})\n",
    "grouped_by_type.sort_values('count', ascending=False).head()"
   ]
  },
  {
   "cell_type": "code",
   "execution_count": 10,
   "metadata": {},
   "outputs": [
    {
     "data": {
      "image/png": "[encoded data removed]",
      "text/plain": [
       "<Figure size 576x396 with 1 Axes>"
      ]
     },
     "metadata": {
      "needs_background": "light"
     },
     "output_type": "display_data"
    }
   ],
   "source": [
    "plt.barh(grouped_by_type['object_type'], grouped_by_type['count'],\n",
    "              color='slateblue')\n",
    "plt.tick_params(labelsize=20)\n",
    "plt.title('Cоотношение видов объектов общественного питания по количеству', \n",
    "         size=22)\n",
    "plt.xlabel('Количество заведений')\n",
    "ax = plt.gca()\n",
    "ttl = ax.title\n",
    "ttl.set_position([.5, 1.07]);"
   ]
  },
  {
   "cell_type": "markdown",
   "metadata": {},
   "source": [
    "Мы хотим открыть кафе. Как видно на графике, это самый распространенный объект общественного питания. Конкуренция будет высокой, поэтому важно найти выгодное геграфическое положение.  "
   ]
  },
  {
   "cell_type": "markdown",
   "metadata": {},
   "source": [
    "<a id='step32'></a>\n",
    "**3.2. Сотношение сетевых и несетевых заведений по количеству**"
   ]
  },
  {
   "cell_type": "code",
   "execution_count": 11,
   "metadata": {},
   "outputs": [],
   "source": [
    "grouped_by_chain = data.groupby('chain', as_index=False).agg({\n",
    "    'id':'count'\n",
    "})\n",
    "grouped_by_chain['ratio'] = grouped_by_chain['id']/grouped_by_chain['id'].sum()"
   ]
  },
  {
   "cell_type": "code",
   "execution_count": 12,
   "metadata": {},
   "outputs": [
    {
     "data": {
      "text/html": [
       "<div>\n",
       "<style scoped>\n",
       "    .dataframe tbody tr th:only-of-type {\n",
       "        vertical-align: middle;\n",
       "    }\n",
       "\n",
       "    .dataframe tbody tr th {\n",
       "        vertical-align: top;\n",
       "    }\n",
       "\n",
       "    .dataframe thead th {\n",
       "        text-align: right;\n",
       "    }\n",
       "</style>\n",
       "<table border=\"1\" class=\"dataframe\">\n",
       "  <thead>\n",
       "    <tr style=\"text-align: right;\">\n",
       "      <th></th>\n",
       "      <th>chain</th>\n",
       "      <th>id</th>\n",
       "      <th>ratio</th>\n",
       "    </tr>\n",
       "  </thead>\n",
       "  <tbody>\n",
       "    <tr>\n",
       "      <th>0</th>\n",
       "      <td>да</td>\n",
       "      <td>2968</td>\n",
       "      <td>0.193154</td>\n",
       "    </tr>\n",
       "    <tr>\n",
       "      <th>1</th>\n",
       "      <td>нет</td>\n",
       "      <td>12398</td>\n",
       "      <td>0.806846</td>\n",
       "    </tr>\n",
       "  </tbody>\n",
       "</table>\n",
       "</div>"
      ],
      "text/plain": [
       "  chain     id     ratio\n",
       "0    да   2968  0.193154\n",
       "1   нет  12398  0.806846"
      ]
     },
     "execution_count": 12,
     "metadata": {},
     "output_type": "execute_result"
    }
   ],
   "source": [
    "grouped_by_chain"
   ]
  },
  {
   "cell_type": "code",
   "execution_count": 13,
   "metadata": {
    "scrolled": true
   },
   "outputs": [
    {
     "data": {
      "image/png": "[encoded data removed]",
      "text/plain": [
       "<Figure size 576x396 with 1 Axes>"
      ]
     },
     "metadata": {},
     "output_type": "display_data"
    }
   ],
   "source": [
    "plt.title('Соотношение сетевых и несетевых заведений по количеству')\n",
    "plt.pie(x=grouped_by_chain['ratio'], labels = ['Сетевые', 'Несетевые'],\n",
    "       colors=['slateblue', 'silver'], autopct='%1.1f%%');"
   ]
  },
  {
   "cell_type": "markdown",
   "metadata": {},
   "source": [
    "Большинство заведений общественного питания - несетевые. "
   ]
  },
  {
   "cell_type": "markdown",
   "metadata": {},
   "source": [
    "<a id='step33'></a>\n",
    "**3.3. Сравнение доли сетевых и несетевых заведений по видам**"
   ]
  },
  {
   "cell_type": "code",
   "execution_count": 14,
   "metadata": {},
   "outputs": [
    {
     "data": {
      "text/html": [
       "<div>\n",
       "<style scoped>\n",
       "    .dataframe tbody tr th:only-of-type {\n",
       "        vertical-align: middle;\n",
       "    }\n",
       "\n",
       "    .dataframe tbody tr th {\n",
       "        vertical-align: top;\n",
       "    }\n",
       "\n",
       "    .dataframe thead th {\n",
       "        text-align: right;\n",
       "    }\n",
       "</style>\n",
       "<table border=\"1\" class=\"dataframe\">\n",
       "  <thead>\n",
       "    <tr style=\"text-align: right;\">\n",
       "      <th></th>\n",
       "      <th>object_type</th>\n",
       "      <th>id</th>\n",
       "    </tr>\n",
       "  </thead>\n",
       "  <tbody>\n",
       "    <tr>\n",
       "      <th>0</th>\n",
       "      <td>бар</td>\n",
       "      <td>37</td>\n",
       "    </tr>\n",
       "    <tr>\n",
       "      <th>1</th>\n",
       "      <td>буфет</td>\n",
       "      <td>11</td>\n",
       "    </tr>\n",
       "    <tr>\n",
       "      <th>2</th>\n",
       "      <td>закусочная</td>\n",
       "      <td>56</td>\n",
       "    </tr>\n",
       "    <tr>\n",
       "      <th>3</th>\n",
       "      <td>кафе</td>\n",
       "      <td>1396</td>\n",
       "    </tr>\n",
       "    <tr>\n",
       "      <th>4</th>\n",
       "      <td>кафетерий</td>\n",
       "      <td>52</td>\n",
       "    </tr>\n",
       "    <tr>\n",
       "      <th>5</th>\n",
       "      <td>магазин (отдел кулинарии)</td>\n",
       "      <td>78</td>\n",
       "    </tr>\n",
       "    <tr>\n",
       "      <th>6</th>\n",
       "      <td>предприятие быстрого обслуживания</td>\n",
       "      <td>791</td>\n",
       "    </tr>\n",
       "    <tr>\n",
       "      <th>7</th>\n",
       "      <td>ресторан</td>\n",
       "      <td>544</td>\n",
       "    </tr>\n",
       "    <tr>\n",
       "      <th>8</th>\n",
       "      <td>столовая</td>\n",
       "      <td>3</td>\n",
       "    </tr>\n",
       "  </tbody>\n",
       "</table>\n",
       "</div>"
      ],
      "text/plain": [
       "                         object_type    id\n",
       "0                                бар    37\n",
       "1                              буфет    11\n",
       "2                         закусочная    56\n",
       "3                               кафе  1396\n",
       "4                          кафетерий    52\n",
       "5          магазин (отдел кулинарии)    78\n",
       "6  предприятие быстрого обслуживания   791\n",
       "7                           ресторан   544\n",
       "8                           столовая     3"
      ]
     },
     "execution_count": 14,
     "metadata": {},
     "output_type": "execute_result"
    }
   ],
   "source": [
    "chain_grouped_by_type = data[data['chain']=='да'].groupby(\n",
    "    'object_type', as_index=False).agg({'id':'count'})\n",
    "chain_grouped_by_type"
   ]
  },
  {
   "cell_type": "code",
   "execution_count": 15,
   "metadata": {},
   "outputs": [],
   "source": [
    "chain_grouped_by_type = grouped_by_type.merge(\n",
    "    chain_grouped_by_type, on='object_type')\n",
    "chain_grouped_by_type = chain_grouped_by_type.rename(columns={\n",
    "    'id':'chain_count'})"
   ]
  },
  {
   "cell_type": "code",
   "execution_count": 16,
   "metadata": {},
   "outputs": [
    {
     "data": {
      "text/html": [
       "<div>\n",
       "<style scoped>\n",
       "    .dataframe tbody tr th:only-of-type {\n",
       "        vertical-align: middle;\n",
       "    }\n",
       "\n",
       "    .dataframe tbody tr th {\n",
       "        vertical-align: top;\n",
       "    }\n",
       "\n",
       "    .dataframe thead th {\n",
       "        text-align: right;\n",
       "    }\n",
       "</style>\n",
       "<table border=\"1\" class=\"dataframe\">\n",
       "  <thead>\n",
       "    <tr style=\"text-align: right;\">\n",
       "      <th></th>\n",
       "      <th>object_type</th>\n",
       "      <th>count</th>\n",
       "      <th>chain_count</th>\n",
       "      <th>chain_share</th>\n",
       "    </tr>\n",
       "  </thead>\n",
       "  <tbody>\n",
       "    <tr>\n",
       "      <th>5</th>\n",
       "      <td>предприятие быстрого обслуживания</td>\n",
       "      <td>1923</td>\n",
       "      <td>791</td>\n",
       "      <td>41.133645</td>\n",
       "    </tr>\n",
       "    <tr>\n",
       "      <th>0</th>\n",
       "      <td>магазин (отдел кулинарии)</td>\n",
       "      <td>273</td>\n",
       "      <td>78</td>\n",
       "      <td>28.571429</td>\n",
       "    </tr>\n",
       "    <tr>\n",
       "      <th>6</th>\n",
       "      <td>ресторан</td>\n",
       "      <td>2285</td>\n",
       "      <td>544</td>\n",
       "      <td>23.807440</td>\n",
       "    </tr>\n",
       "    <tr>\n",
       "      <th>8</th>\n",
       "      <td>кафе</td>\n",
       "      <td>6099</td>\n",
       "      <td>1396</td>\n",
       "      <td>22.888998</td>\n",
       "    </tr>\n",
       "    <tr>\n",
       "      <th>1</th>\n",
       "      <td>закусочная</td>\n",
       "      <td>360</td>\n",
       "      <td>56</td>\n",
       "      <td>15.555556</td>\n",
       "    </tr>\n",
       "    <tr>\n",
       "      <th>2</th>\n",
       "      <td>кафетерий</td>\n",
       "      <td>398</td>\n",
       "      <td>52</td>\n",
       "      <td>13.065327</td>\n",
       "    </tr>\n",
       "    <tr>\n",
       "      <th>4</th>\n",
       "      <td>бар</td>\n",
       "      <td>856</td>\n",
       "      <td>37</td>\n",
       "      <td>4.322430</td>\n",
       "    </tr>\n",
       "    <tr>\n",
       "      <th>3</th>\n",
       "      <td>буфет</td>\n",
       "      <td>585</td>\n",
       "      <td>11</td>\n",
       "      <td>1.880342</td>\n",
       "    </tr>\n",
       "    <tr>\n",
       "      <th>7</th>\n",
       "      <td>столовая</td>\n",
       "      <td>2587</td>\n",
       "      <td>3</td>\n",
       "      <td>0.115964</td>\n",
       "    </tr>\n",
       "  </tbody>\n",
       "</table>\n",
       "</div>"
      ],
      "text/plain": [
       "                         object_type  count  chain_count  chain_share\n",
       "5  предприятие быстрого обслуживания   1923          791    41.133645\n",
       "0          магазин (отдел кулинарии)    273           78    28.571429\n",
       "6                           ресторан   2285          544    23.807440\n",
       "8                               кафе   6099         1396    22.888998\n",
       "1                         закусочная    360           56    15.555556\n",
       "2                          кафетерий    398           52    13.065327\n",
       "4                                бар    856           37     4.322430\n",
       "3                              буфет    585           11     1.880342\n",
       "7                           столовая   2587            3     0.115964"
      ]
     },
     "execution_count": 16,
     "metadata": {},
     "output_type": "execute_result"
    }
   ],
   "source": [
    "chain_grouped_by_type['chain_share'] = (chain_grouped_by_type['chain_count']/\\\n",
    "chain_grouped_by_type['count'])*100\n",
    "chain_grouped_by_type = chain_grouped_by_type.sort_values(\n",
    "'chain_share', ascending=False)\n",
    "chain_grouped_by_type"
   ]
  },
  {
   "cell_type": "code",
   "execution_count": 17,
   "metadata": {},
   "outputs": [
    {
     "data": {
      "image/png": "[encoded data removed]",
      "text/plain": [
       "<Figure size 576x396 with 1 Axes>"
      ]
     },
     "metadata": {
      "needs_background": "light"
     },
     "output_type": "display_data"
    }
   ],
   "source": [
    "plt.barh(chain_grouped_by_type['object_type'], chain_grouped_by_type[\n",
    "    'chain_share'], color='slateblue')\n",
    "plt.tick_params(labelsize=20)\n",
    "plt.title('Доля сетевых объектов, %', size=22)\n",
    "plt.xlabel('Доля сетевых объектов')\n",
    "plt.ylabel('Вид объекта общественного питания')\n",
    "ax = plt.gca()\n",
    "ttl = ax.title\n",
    "ttl.set_position([.5, 1.07]);"
   ]
  },
  {
   "cell_type": "markdown",
   "metadata": {},
   "source": [
    "Сетевое распространение характерно прежде всего для предприятий быстрого обслуживания, отделов кулинарии в магазинах и ресторанов и совсем не характерно для столовых. Что касается кафе, сетевыми являются около четверти из них.    "
   ]
  },
  {
   "cell_type": "markdown",
   "metadata": {},
   "source": [
    "<a id='step34'></a>\n",
    "**3.4. Исследование взаимосвязи числа посадочных мест и сетевого распространения**"
   ]
  },
  {
   "cell_type": "code",
   "execution_count": 18,
   "metadata": {},
   "outputs": [
    {
     "data": {
      "image/png": "[encoded data removed]",
      "text/plain": [
       "<Figure size 576x396 with 1 Axes>"
      ]
     },
     "metadata": {
      "needs_background": "light"
     },
     "output_type": "display_data"
    }
   ],
   "source": [
    "plt.plot()\n",
    "plt.title('Распределение количества посадочных мест \\\n",
    "сетевых и несетевых заведений')\n",
    "sns.violinplot(x='number', y='chain', data=data, palette='Accent')\n",
    "plt.xlabel('Количество посадочных мест')\n",
    "plt.ylabel('Является ли заведение сетевым');"
   ]
  },
  {
   "cell_type": "markdown",
   "metadata": {},
   "source": [
    "По графикам видно, что типичные значения количества посадочных мест различаются не сильно, но для несетевых заведений распределение имеет более тяжелый правых хвост."
   ]
  },
  {
   "cell_type": "code",
   "execution_count": 19,
   "metadata": {},
   "outputs": [
    {
     "data": {
      "image/png": "[encoded data removed]",
      "text/plain": [
       "<Figure size 576x396 with 1 Axes>"
      ]
     },
     "metadata": {
      "needs_background": "light"
     },
     "output_type": "display_data"
    }
   ],
   "source": [
    "plt.plot()\n",
    "plt.title('Количество посадочных мест сетевых и несетевых заведений')\n",
    "sns.stripplot(x='chain', y='number', data=data, palette='Accent', alpha=0.7)\n",
    "plt.xlabel('Является ли заведение сетевым')\n",
    "plt.ylabel('Количество посадочных мест');"
   ]
  },
  {
   "cell_type": "markdown",
   "metadata": {},
   "source": [
    "В целом для сетевых заведений характерно меньшее количество посадочных мест."
   ]
  },
  {
   "cell_type": "markdown",
   "metadata": {},
   "source": [
    "<a id='step35'></a>\n",
    "**3.5. Среднее количество посадочных мест для разных видов объектов общественного питания**"
   ]
  },
  {
   "cell_type": "code",
   "execution_count": 20,
   "metadata": {},
   "outputs": [
    {
     "data": {
      "image/png": "[encoded data removed]",
      "text/plain": [
       "<Figure size 432x864 with 1 Axes>"
      ]
     },
     "metadata": {
      "needs_background": "light"
     },
     "output_type": "display_data"
    }
   ],
   "source": [
    "plt.figure(figsize=(6,12))\n",
    "sns.boxplot(x='number', y='object_type', data=data, palette='Accent')\n",
    "plt.xlabel('Количество посадочных мест')\n",
    "plt.ylabel('Вид объекта')\n",
    "plt.title('Количество посадочных мест для различных видов \\\n",
    "объектов общественного питания');"
   ]
  },
  {
   "cell_type": "markdown",
   "metadata": {},
   "source": [
    "Среди всех объектов выделяются столовые и рестораны. Для закусочных, кафетериев и отделов кулинарии магазинах характерно скорее отсутствие посадочных мест.  \n",
    "Для презентации график с коробчатыми диаграммами выглядит слишком сложным, поэтому будем использовать таблицу, где наибольшие значения будут выделены цветом.  \n",
    "Поскольку распределения количества посадочных мест сильно скошены вправо, в качестве средних значений используем медианы."
   ]
  },
  {
   "cell_type": "code",
   "execution_count": 21,
   "metadata": {},
   "outputs": [
    {
     "data": {
      "text/html": [
       "<style  type=\"text/css\" >\n",
       "    #T_cc4d4006_37d5_11eb_9bb1_acde48001122row0_col1 {\n",
       "            background-color:  #c1baea;\n",
       "            color:  #000000;\n",
       "        }    #T_cc4d4006_37d5_11eb_9bb1_acde48001122row1_col1 {\n",
       "            background-color:  #c5beeb;\n",
       "            color:  #000000;\n",
       "        }    #T_cc4d4006_37d5_11eb_9bb1_acde48001122row2_col1 {\n",
       "            background-color:  #edebf9;\n",
       "            color:  #000000;\n",
       "        }    #T_cc4d4006_37d5_11eb_9bb1_acde48001122row3_col1 {\n",
       "            background-color:  #c7c1ec;\n",
       "            color:  #000000;\n",
       "        }    #T_cc4d4006_37d5_11eb_9bb1_acde48001122row4_col1 {\n",
       "            background-color:  #e6e3f7;\n",
       "            color:  #000000;\n",
       "        }    #T_cc4d4006_37d5_11eb_9bb1_acde48001122row5_col1 {\n",
       "            background-color:  #edebf9;\n",
       "            color:  #000000;\n",
       "        }    #T_cc4d4006_37d5_11eb_9bb1_acde48001122row6_col1 {\n",
       "            background-color:  #e7e5f7;\n",
       "            color:  #000000;\n",
       "        }    #T_cc4d4006_37d5_11eb_9bb1_acde48001122row7_col1 {\n",
       "            background-color:  #877bd7;\n",
       "            color:  #000000;\n",
       "        }    #T_cc4d4006_37d5_11eb_9bb1_acde48001122row8_col1 {\n",
       "            background-color:  #6a5acd;\n",
       "            color:  #f1f1f1;\n",
       "        }</style><table id=\"T_cc4d4006_37d5_11eb_9bb1_acde48001122\" ><thead>    <tr>        <th class=\"blank level0\" ></th>        <th class=\"col_heading level0 col0\" >Вид объекта</th>        <th class=\"col_heading level0 col1\" >Медианное количество посадочных мест</th>    </tr></thead><tbody>\n",
       "                <tr>\n",
       "                        <th id=\"T_cc4d4006_37d5_11eb_9bb1_acde48001122level0_row0\" class=\"row_heading level0 row0\" >0</th>\n",
       "                        <td id=\"T_cc4d4006_37d5_11eb_9bb1_acde48001122row0_col0\" class=\"data row0 col0\" >бар</td>\n",
       "                        <td id=\"T_cc4d4006_37d5_11eb_9bb1_acde48001122row0_col1\" class=\"data row0 col1\" >35</td>\n",
       "            </tr>\n",
       "            <tr>\n",
       "                        <th id=\"T_cc4d4006_37d5_11eb_9bb1_acde48001122level0_row1\" class=\"row_heading level0 row1\" >1</th>\n",
       "                        <td id=\"T_cc4d4006_37d5_11eb_9bb1_acde48001122row1_col0\" class=\"data row1 col0\" >буфет</td>\n",
       "                        <td id=\"T_cc4d4006_37d5_11eb_9bb1_acde48001122row1_col1\" class=\"data row1 col1\" >32</td>\n",
       "            </tr>\n",
       "            <tr>\n",
       "                        <th id=\"T_cc4d4006_37d5_11eb_9bb1_acde48001122level0_row2\" class=\"row_heading level0 row2\" >2</th>\n",
       "                        <td id=\"T_cc4d4006_37d5_11eb_9bb1_acde48001122row2_col0\" class=\"data row2 col0\" >закусочная</td>\n",
       "                        <td id=\"T_cc4d4006_37d5_11eb_9bb1_acde48001122row2_col1\" class=\"data row2 col1\" >0</td>\n",
       "            </tr>\n",
       "            <tr>\n",
       "                        <th id=\"T_cc4d4006_37d5_11eb_9bb1_acde48001122level0_row3\" class=\"row_heading level0 row3\" >3</th>\n",
       "                        <td id=\"T_cc4d4006_37d5_11eb_9bb1_acde48001122row3_col0\" class=\"data row3 col0\" >кафе</td>\n",
       "                        <td id=\"T_cc4d4006_37d5_11eb_9bb1_acde48001122row3_col1\" class=\"data row3 col1\" >30</td>\n",
       "            </tr>\n",
       "            <tr>\n",
       "                        <th id=\"T_cc4d4006_37d5_11eb_9bb1_acde48001122level0_row4\" class=\"row_heading level0 row4\" >4</th>\n",
       "                        <td id=\"T_cc4d4006_37d5_11eb_9bb1_acde48001122row4_col0\" class=\"data row4 col0\" >кафетерий</td>\n",
       "                        <td id=\"T_cc4d4006_37d5_11eb_9bb1_acde48001122row4_col1\" class=\"data row4 col1\" >6</td>\n",
       "            </tr>\n",
       "            <tr>\n",
       "                        <th id=\"T_cc4d4006_37d5_11eb_9bb1_acde48001122level0_row5\" class=\"row_heading level0 row5\" >5</th>\n",
       "                        <td id=\"T_cc4d4006_37d5_11eb_9bb1_acde48001122row5_col0\" class=\"data row5 col0\" >магазин (отдел кулинарии)</td>\n",
       "                        <td id=\"T_cc4d4006_37d5_11eb_9bb1_acde48001122row5_col1\" class=\"data row5 col1\" >0</td>\n",
       "            </tr>\n",
       "            <tr>\n",
       "                        <th id=\"T_cc4d4006_37d5_11eb_9bb1_acde48001122level0_row6\" class=\"row_heading level0 row6\" >6</th>\n",
       "                        <td id=\"T_cc4d4006_37d5_11eb_9bb1_acde48001122row6_col0\" class=\"data row6 col0\" >предприятие быстрого обслуживания</td>\n",
       "                        <td id=\"T_cc4d4006_37d5_11eb_9bb1_acde48001122row6_col1\" class=\"data row6 col1\" >5</td>\n",
       "            </tr>\n",
       "            <tr>\n",
       "                        <th id=\"T_cc4d4006_37d5_11eb_9bb1_acde48001122level0_row7\" class=\"row_heading level0 row7\" >7</th>\n",
       "                        <td id=\"T_cc4d4006_37d5_11eb_9bb1_acde48001122row7_col0\" class=\"data row7 col0\" >ресторан</td>\n",
       "                        <td id=\"T_cc4d4006_37d5_11eb_9bb1_acde48001122row7_col1\" class=\"data row7 col1\" >80</td>\n",
       "            </tr>\n",
       "            <tr>\n",
       "                        <th id=\"T_cc4d4006_37d5_11eb_9bb1_acde48001122level0_row8\" class=\"row_heading level0 row8\" >8</th>\n",
       "                        <td id=\"T_cc4d4006_37d5_11eb_9bb1_acde48001122row8_col0\" class=\"data row8 col0\" >столовая</td>\n",
       "                        <td id=\"T_cc4d4006_37d5_11eb_9bb1_acde48001122row8_col1\" class=\"data row8 col1\" >103</td>\n",
       "            </tr>\n",
       "    </tbody></table>"
      ],
      "text/plain": [
       "<pandas.io.formats.style.Styler at 0x7fa4bd97f880>"
      ]
     },
     "metadata": {},
     "output_type": "display_data"
    }
   ],
   "source": [
    "median_numbers = data.groupby('object_type', as_index=False).agg({\n",
    "    'number':'median'})\n",
    "median_numbers = median_numbers.rename(columns={\n",
    "    'object_type':'Вид объекта',\n",
    "    'number':'Медианное количество посадочных мест'})\n",
    "cm = sns.light_palette(\"slateblue\", as_cmap=True)\n",
    "display(median_numbers.style.background_gradient(cmap=cm))"
   ]
  },
  {
   "cell_type": "markdown",
   "metadata": {},
   "source": [
    "Самое большое количество посадочных мест предоставляют столовые и рестораны."
   ]
  },
  {
   "cell_type": "markdown",
   "metadata": {},
   "source": [
    "<a id='step36'></a>\n",
    "**3.6. Топ-10 улиц Москвы по количеству объектов общественного питания**"
   ]
  },
  {
   "cell_type": "markdown",
   "metadata": {},
   "source": [
    "Выделим в отдельный столбец информацию об улице из столбца address ."
   ]
  },
  {
   "cell_type": "code",
   "execution_count": 22,
   "metadata": {},
   "outputs": [
    {
     "data": {
      "text/html": [
       "<div>\n",
       "<style scoped>\n",
       "    .dataframe tbody tr th:only-of-type {\n",
       "        vertical-align: middle;\n",
       "    }\n",
       "\n",
       "    .dataframe tbody tr th {\n",
       "        vertical-align: top;\n",
       "    }\n",
       "\n",
       "    .dataframe thead th {\n",
       "        text-align: right;\n",
       "    }\n",
       "</style>\n",
       "<table border=\"1\" class=\"dataframe\">\n",
       "  <thead>\n",
       "    <tr style=\"text-align: right;\">\n",
       "      <th></th>\n",
       "      <th>id</th>\n",
       "      <th>object_name</th>\n",
       "      <th>chain</th>\n",
       "      <th>object_type</th>\n",
       "      <th>address</th>\n",
       "      <th>number</th>\n",
       "    </tr>\n",
       "  </thead>\n",
       "  <tbody>\n",
       "    <tr>\n",
       "      <th>0</th>\n",
       "      <td>151635</td>\n",
       "      <td>СМЕТАНА</td>\n",
       "      <td>нет</td>\n",
       "      <td>кафе</td>\n",
       "      <td>город Москва, улица Егора Абакумова, дом 9</td>\n",
       "      <td>48</td>\n",
       "    </tr>\n",
       "    <tr>\n",
       "      <th>1</th>\n",
       "      <td>77874</td>\n",
       "      <td>Родник</td>\n",
       "      <td>нет</td>\n",
       "      <td>кафе</td>\n",
       "      <td>город Москва, улица Талалихина, дом 2/1, корпус 1</td>\n",
       "      <td>35</td>\n",
       "    </tr>\n",
       "    <tr>\n",
       "      <th>2</th>\n",
       "      <td>24309</td>\n",
       "      <td>Кафе «Академия»</td>\n",
       "      <td>нет</td>\n",
       "      <td>кафе</td>\n",
       "      <td>город Москва, Абельмановская улица, дом 6</td>\n",
       "      <td>95</td>\n",
       "    </tr>\n",
       "    <tr>\n",
       "      <th>3</th>\n",
       "      <td>21894</td>\n",
       "      <td>ПИЦЦЕТОРИЯ</td>\n",
       "      <td>да</td>\n",
       "      <td>кафе</td>\n",
       "      <td>город Москва, Абрамцевская улица, дом 1</td>\n",
       "      <td>40</td>\n",
       "    </tr>\n",
       "    <tr>\n",
       "      <th>4</th>\n",
       "      <td>119365</td>\n",
       "      <td>Кафе «Вишневая метель»</td>\n",
       "      <td>нет</td>\n",
       "      <td>кафе</td>\n",
       "      <td>город Москва, Абрамцевская улица, дом 9, корпус 1</td>\n",
       "      <td>50</td>\n",
       "    </tr>\n",
       "  </tbody>\n",
       "</table>\n",
       "</div>"
      ],
      "text/plain": [
       "       id             object_name chain object_type  \\\n",
       "0  151635                 СМЕТАНА   нет        кафе   \n",
       "1   77874                  Родник   нет        кафе   \n",
       "2   24309         Кафе «Академия»   нет        кафе   \n",
       "3   21894              ПИЦЦЕТОРИЯ    да        кафе   \n",
       "4  119365  Кафе «Вишневая метель»   нет        кафе   \n",
       "\n",
       "                                             address  number  \n",
       "0         город Москва, улица Егора Абакумова, дом 9      48  \n",
       "1  город Москва, улица Талалихина, дом 2/1, корпус 1      35  \n",
       "2          город Москва, Абельмановская улица, дом 6      95  \n",
       "3            город Москва, Абрамцевская улица, дом 1      40  \n",
       "4  город Москва, Абрамцевская улица, дом 9, корпус 1      50  "
      ]
     },
     "execution_count": 22,
     "metadata": {},
     "output_type": "execute_result"
    }
   ],
   "source": [
    "data.head()"
   ]
  },
  {
   "cell_type": "code",
   "execution_count": 23,
   "metadata": {},
   "outputs": [],
   "source": [
    "# типы улиц Москвы (изначальный источник - http://mosopen.ru/streets,\n",
    "# затем список дополнялся исходя из оставшихся неопределенными улиц)\n",
    "pattern = re.compile('улица|аллея|бульвар|квартал|линия|микрорайон\\\n",
    "|мост|набережная|парк|переулок|площадь|проезд|проектируемый проезд|\\\n",
    "просека|просек|проспект|тупик|шоссе|километр|территория')"
   ]
  },
  {
   "cell_type": "code",
   "execution_count": 24,
   "metadata": {},
   "outputs": [],
   "source": [
    "def get_street(row):\n",
    "    address = row['address']\n",
    "    address_lst = address.split(',')\n",
    "    for i in range(len(address_lst)):\n",
    "        if pattern.search(address_lst[i]):\n",
    "            return address_lst[i].strip()\n",
    "    return 'улица не указана'"
   ]
  },
  {
   "cell_type": "code",
   "execution_count": 25,
   "metadata": {},
   "outputs": [],
   "source": [
    "data['street'] = data.apply(get_street, axis=1)"
   ]
  },
  {
   "cell_type": "code",
   "execution_count": 26,
   "metadata": {},
   "outputs": [
    {
     "data": {
      "text/plain": [
       "(250, 7)"
      ]
     },
     "execution_count": 26,
     "metadata": {},
     "output_type": "execute_result"
    }
   ],
   "source": [
    "data[data['street']=='улица не указана'].shape"
   ]
  },
  {
   "cell_type": "code",
   "execution_count": 27,
   "metadata": {},
   "outputs": [
    {
     "data": {
      "text/html": [
       "<div>\n",
       "<style scoped>\n",
       "    .dataframe tbody tr th:only-of-type {\n",
       "        vertical-align: middle;\n",
       "    }\n",
       "\n",
       "    .dataframe tbody tr th {\n",
       "        vertical-align: top;\n",
       "    }\n",
       "\n",
       "    .dataframe thead th {\n",
       "        text-align: right;\n",
       "    }\n",
       "</style>\n",
       "<table border=\"1\" class=\"dataframe\">\n",
       "  <thead>\n",
       "    <tr style=\"text-align: right;\">\n",
       "      <th></th>\n",
       "      <th>id</th>\n",
       "      <th>object_name</th>\n",
       "      <th>chain</th>\n",
       "      <th>object_type</th>\n",
       "      <th>address</th>\n",
       "      <th>number</th>\n",
       "      <th>street</th>\n",
       "    </tr>\n",
       "  </thead>\n",
       "  <tbody>\n",
       "    <tr>\n",
       "      <th>1405</th>\n",
       "      <td>20199</td>\n",
       "      <td>ЭТО</td>\n",
       "      <td>нет</td>\n",
       "      <td>кафе</td>\n",
       "      <td>город Москва, город Зеленоград, корпус 401</td>\n",
       "      <td>35</td>\n",
       "      <td>улица не указана</td>\n",
       "    </tr>\n",
       "    <tr>\n",
       "      <th>1406</th>\n",
       "      <td>68113</td>\n",
       "      <td>Френдс</td>\n",
       "      <td>нет</td>\n",
       "      <td>кафе</td>\n",
       "      <td>город Москва, город Зеленоград, корпус 435</td>\n",
       "      <td>34</td>\n",
       "      <td>улица не указана</td>\n",
       "    </tr>\n",
       "    <tr>\n",
       "      <th>1407</th>\n",
       "      <td>20105</td>\n",
       "      <td>Кафе «Граф Монте-Кристо»</td>\n",
       "      <td>нет</td>\n",
       "      <td>кафе</td>\n",
       "      <td>город Москва, город Зеленоград, корпус 436</td>\n",
       "      <td>40</td>\n",
       "      <td>улица не указана</td>\n",
       "    </tr>\n",
       "    <tr>\n",
       "      <th>1408</th>\n",
       "      <td>22982</td>\n",
       "      <td>Альфорно</td>\n",
       "      <td>нет</td>\n",
       "      <td>кафе</td>\n",
       "      <td>город Москва, город Зеленоград, корпус 438</td>\n",
       "      <td>49</td>\n",
       "      <td>улица не указана</td>\n",
       "    </tr>\n",
       "    <tr>\n",
       "      <th>1409</th>\n",
       "      <td>151267</td>\n",
       "      <td>Альфорно</td>\n",
       "      <td>нет</td>\n",
       "      <td>кафе</td>\n",
       "      <td>город Москва, город Зеленоград, корпус 438</td>\n",
       "      <td>45</td>\n",
       "      <td>улица не указана</td>\n",
       "    </tr>\n",
       "  </tbody>\n",
       "</table>\n",
       "</div>"
      ],
      "text/plain": [
       "          id               object_name chain object_type  \\\n",
       "1405   20199                       ЭТО   нет        кафе   \n",
       "1406   68113                    Френдс   нет        кафе   \n",
       "1407   20105  Кафе «Граф Монте-Кристо»   нет        кафе   \n",
       "1408   22982                  Альфорно   нет        кафе   \n",
       "1409  151267                  Альфорно   нет        кафе   \n",
       "\n",
       "                                         address  number            street  \n",
       "1405  город Москва, город Зеленоград, корпус 401      35  улица не указана  \n",
       "1406  город Москва, город Зеленоград, корпус 435      34  улица не указана  \n",
       "1407  город Москва, город Зеленоград, корпус 436      40  улица не указана  \n",
       "1408  город Москва, город Зеленоград, корпус 438      49  улица не указана  \n",
       "1409  город Москва, город Зеленоград, корпус 438      45  улица не указана  "
      ]
     },
     "execution_count": 27,
     "metadata": {},
     "output_type": "execute_result"
    }
   ],
   "source": [
    "data[data['street']=='улица не указана'].head()"
   ]
  },
  {
   "cell_type": "markdown",
   "metadata": {},
   "source": [
    "Осталось 250 объектов общественного питания, для которых не указана улица. Просмотрев эти данные, можно убедиться, что все эти объекты относятся к Зеленограду, либо к неким деревням и поселениям. Так как мы не собираемся открывать кафе так далеко от центра, для дальнейшего анализа эти строки отфильтруем.  \n",
    "\n",
    "Топ-10 улиц по количеству объектов общественного питания:"
   ]
  },
  {
   "cell_type": "code",
   "execution_count": 28,
   "metadata": {},
   "outputs": [
    {
     "data": {
      "text/html": [
       "<div>\n",
       "<style scoped>\n",
       "    .dataframe tbody tr th:only-of-type {\n",
       "        vertical-align: middle;\n",
       "    }\n",
       "\n",
       "    .dataframe tbody tr th {\n",
       "        vertical-align: top;\n",
       "    }\n",
       "\n",
       "    .dataframe thead th {\n",
       "        text-align: right;\n",
       "    }\n",
       "</style>\n",
       "<table border=\"1\" class=\"dataframe\">\n",
       "  <thead>\n",
       "    <tr style=\"text-align: right;\">\n",
       "      <th></th>\n",
       "      <th>count</th>\n",
       "    </tr>\n",
       "    <tr>\n",
       "      <th>street</th>\n",
       "      <th></th>\n",
       "    </tr>\n",
       "  </thead>\n",
       "  <tbody>\n",
       "    <tr>\n",
       "      <th>проспект Мира</th>\n",
       "      <td>204</td>\n",
       "    </tr>\n",
       "    <tr>\n",
       "      <th>Профсоюзная улица</th>\n",
       "      <td>183</td>\n",
       "    </tr>\n",
       "    <tr>\n",
       "      <th>Ленинградский проспект</th>\n",
       "      <td>173</td>\n",
       "    </tr>\n",
       "    <tr>\n",
       "      <th>Пресненская набережная</th>\n",
       "      <td>167</td>\n",
       "    </tr>\n",
       "    <tr>\n",
       "      <th>Варшавское шоссе</th>\n",
       "      <td>165</td>\n",
       "    </tr>\n",
       "    <tr>\n",
       "      <th>Ленинский проспект</th>\n",
       "      <td>148</td>\n",
       "    </tr>\n",
       "    <tr>\n",
       "      <th>проспект Вернадского</th>\n",
       "      <td>132</td>\n",
       "    </tr>\n",
       "    <tr>\n",
       "      <th>Кутузовский проспект</th>\n",
       "      <td>114</td>\n",
       "    </tr>\n",
       "    <tr>\n",
       "      <th>Каширское шоссе</th>\n",
       "      <td>112</td>\n",
       "    </tr>\n",
       "    <tr>\n",
       "      <th>Кировоградская улица</th>\n",
       "      <td>110</td>\n",
       "    </tr>\n",
       "  </tbody>\n",
       "</table>\n",
       "</div>"
      ],
      "text/plain": [
       "                        count\n",
       "street                       \n",
       "проспект Мира             204\n",
       "Профсоюзная улица         183\n",
       "Ленинградский проспект    173\n",
       "Пресненская набережная    167\n",
       "Варшавское шоссе          165\n",
       "Ленинский проспект        148\n",
       "проспект Вернадского      132\n",
       "Кутузовский проспект      114\n",
       "Каширское шоссе           112\n",
       "Кировоградская улица      110"
      ]
     },
     "execution_count": 28,
     "metadata": {},
     "output_type": "execute_result"
    }
   ],
   "source": [
    "top10_streets = data[data['street']!='улица не указана'].groupby('street').agg(\n",
    "    {'id':'count'}).sort_values(\n",
    "    'id', ascending=False).head(10)\n",
    "top10_streets.columns = ['count']\n",
    "top10_streets"
   ]
  },
  {
   "cell_type": "code",
   "execution_count": 29,
   "metadata": {},
   "outputs": [
    {
     "data": {
      "image/png": "[encoded data removed]",
      "text/plain": [
       "<Figure size 576x396 with 1 Axes>"
      ]
     },
     "metadata": {
      "needs_background": "light"
     },
     "output_type": "display_data"
    }
   ],
   "source": [
    "# построим график\n",
    "plt.barh(top10_streets.index, top10_streets['count'],\n",
    "         color='slateblue')\n",
    "plt.xlabel('Количество объектов, шт')\n",
    "plt.tick_params(labelsize=20)\n",
    "plt.title('Топ-10 улиц по количеству объектов общественного питания', size=22)\n",
    "\n",
    "ax = plt.gca()\n",
    "ttl = ax.title\n",
    "ttl.set_position([.5, 1.07]);"
   ]
  },
  {
   "cell_type": "markdown",
   "metadata": {},
   "source": [
    "Изучив карту и воспользовавшись информацией о районах Москвы, можно сделать вывод, что в основном это улицы большой протяженности, каждая из которых относится к нескольким районам:  \n",
    "* проспект Мира: Алексеевский, Марьина роща, Мещанский, Останкинский, Ростокино, Свиблово, Ярославский;\n",
    "* Профсоюзная улица: Академический, Коньково, Обручевский, Тёплый Стан, Черёмушки и Ясенево;\n",
    "* Ленинградский проспект: Аэропорт, Беговой, Сокол и Хорошёвский;\n",
    "* Пресненская набережная: Пресненский район;\n",
    "* Варшавское шоссе: Северное Бутово, Южное Бутово, Донской, Нагатино-Садовники, Нагорный, Северное Чертаново, Центральное Чертаново, Южное Чертаново;\n",
    "* Ленинский проспект: Гагаринский, Донской, Ломоносовский, Обручевский, Проспект Вернадского, Тёплый Стан, Тропарёво-Никулино, Якиманка;\n",
    "* проспект Вернадского: Гагаринский, Ломоносовский, Проспект Вернадского, Раменки, Тропарёво-Никулино;\n",
    "* Кутузовский проспект: Дорогомилово, Фили-Давыдково;\n",
    "* Каширское шоссе: Москворечье-Сабурово, Нагатино-Садовники, Северное Орехово-Борисово, Южное Орехово-Борисово;\n",
    "* Кировоградская улица: Северное Чертаново, Центральное Чертаново, Южное Чертаново.  \n",
    "\n",
    "В случае с Пресненской набережной, много заведений находятся в торговых и бизнес-центрах.\n"
   ]
  },
  {
   "cell_type": "code",
   "execution_count": 30,
   "metadata": {},
   "outputs": [
    {
     "data": {
      "text/plain": [
       "(25, 7)"
      ]
     },
     "execution_count": 30,
     "metadata": {},
     "output_type": "execute_result"
    }
   ],
   "source": [
    "# башня \"Империя\", например: 25 объектов\n",
    "data[data['address']=='город Москва, Пресненская набережная, дом 12'].shape"
   ]
  },
  {
   "cell_type": "code",
   "execution_count": 31,
   "metadata": {},
   "outputs": [
    {
     "data": {
      "text/plain": [
       "(17, 7)"
      ]
     },
     "execution_count": 31,
     "metadata": {},
     "output_type": "execute_result"
    }
   ],
   "source": [
    "# \"башня на набережной\": 17 объектов\n",
    "data[data['address']=='город Москва, Пресненская набережная, дом 10'].shape"
   ]
  },
  {
   "cell_type": "markdown",
   "metadata": {},
   "source": [
    "<a id='step37'></a>\n",
    "**3.7. Улицы с одним объектом общественного питания**"
   ]
  },
  {
   "cell_type": "code",
   "execution_count": 32,
   "metadata": {},
   "outputs": [],
   "source": [
    "grouped_by_streets = data[data['street']!='улица не указана'].groupby(\n",
    "    'street', as_index=False).agg({'id':'count'})\n",
    "streets_with_1_object = grouped_by_streets[grouped_by_streets['id']==1]"
   ]
  },
  {
   "cell_type": "code",
   "execution_count": 33,
   "metadata": {},
   "outputs": [
    {
     "data": {
      "text/plain": [
       "(571, 2)"
      ]
     },
     "execution_count": 33,
     "metadata": {},
     "output_type": "execute_result"
    }
   ],
   "source": [
    "streets_with_1_object.shape"
   ]
  },
  {
   "cell_type": "markdown",
   "metadata": {},
   "source": [
    "Всего таких улиц 571. Определим, в каких районах Москвы они находятся. Для этого получим таблицу соответствия районов и улиц, воспользовавшись сайтом http://mosopen.ru/"
   ]
  },
  {
   "cell_type": "code",
   "execution_count": 34,
   "metadata": {},
   "outputs": [],
   "source": [
    "url_regions = 'http://mosopen.ru/streets'\n",
    "req_regions = requests.get(url_regions)\n",
    "soup_regions = BeautifulSoup(req_regions.text, 'lxml')"
   ]
  },
  {
   "cell_type": "code",
   "execution_count": 35,
   "metadata": {},
   "outputs": [],
   "source": [
    "# получим таблицу с районами\n",
    "regions_table = soup_regions.find(\"table\", attrs={\"class\":\"regions_list\"})\n",
    "# ссылки на список улиц в каждом районе Москвы\n",
    "regions_links = regions_table.find_all(\"a\")"
   ]
  },
  {
   "cell_type": "code",
   "execution_count": 36,
   "metadata": {},
   "outputs": [
    {
     "name": "stdout",
     "output_type": "stream",
     "text": [
      "Не удалось получить информацию для района  Восточный\n",
      "Не удалось получить информацию для района  Некрасовка\n",
      "Не удалось получить информацию для района  Новокосино\n"
     ]
    }
   ],
   "source": [
    "moscow_streets = dict()\n",
    "for link in regions_links:\n",
    "    region_name = link.text\n",
    "    url_streets = link['href']\n",
    "    req_streets = requests.get(url_streets)\n",
    "    soup_streets = BeautifulSoup(req_streets.text, 'lxml')\n",
    "    streets_table = soup_streets.find(\"div\", attrs={\n",
    "        \"class\":\"double_block clearfix\"})\n",
    "    try:\n",
    "        streets_in_region = [street.text for street in streets_table.find_all(\"a\")]\n",
    "        moscow_streets[region_name] = streets_in_region\n",
    "    except:\n",
    "        print('Не удалось получить информацию для района ', region_name)\n",
    "        moscow_streets[region_name] = [] "
   ]
  },
  {
   "cell_type": "code",
   "execution_count": 37,
   "metadata": {},
   "outputs": [],
   "source": [
    "# для оставшихся трех районов улицы проще скопировать...\n",
    "moscow_streets['Восточный'] = ['9 Мая, улица', 'Акулово, посёлок', 'Восточный, посёлок',\n",
    "                                'Главная улица', 'Западная улица''Хвойная улица']\n",
    "moscow_streets['Некрасовка'] = ['Вольская 1-я, улица', 'Вольская 2-я, улица', 'Некрасовка, посёлок',\n",
    "'Некрасовская улица']\n",
    "moscow_streets['Новокосино'] = ['Городецкая улица', 'Николая Старостина, улица'\n",
    "                                ,'Никольско-Архангельский проезд', 'Новокосинская улица',\n",
    "                                'Носовихинское шоссе', 'Салтыковская улица', 'Суздальская улица']"
   ]
  },
  {
   "cell_type": "code",
   "execution_count": 38,
   "metadata": {},
   "outputs": [],
   "source": [
    "streets_info = pd.DataFrame()\n",
    "for key in moscow_streets.keys():\n",
    "    df = pd.DataFrame(index=range(len(moscow_streets[key])), columns=['region', 'street'])\n",
    "    df['region'] = [key]*len(moscow_streets[key])\n",
    "    df['street'] = moscow_streets[key]\n",
    "    streets_info = pd.concat([streets_info, df])"
   ]
  },
  {
   "cell_type": "code",
   "execution_count": 39,
   "metadata": {},
   "outputs": [
    {
     "data": {
      "text/html": [
       "<div>\n",
       "<style scoped>\n",
       "    .dataframe tbody tr th:only-of-type {\n",
       "        vertical-align: middle;\n",
       "    }\n",
       "\n",
       "    .dataframe tbody tr th {\n",
       "        vertical-align: top;\n",
       "    }\n",
       "\n",
       "    .dataframe thead th {\n",
       "        text-align: right;\n",
       "    }\n",
       "</style>\n",
       "<table border=\"1\" class=\"dataframe\">\n",
       "  <thead>\n",
       "    <tr style=\"text-align: right;\">\n",
       "      <th></th>\n",
       "      <th>region</th>\n",
       "      <th>street</th>\n",
       "    </tr>\n",
       "  </thead>\n",
       "  <tbody>\n",
       "    <tr>\n",
       "      <th>0</th>\n",
       "      <td>Академический</td>\n",
       "      <td>60-летия Октября, проспект</td>\n",
       "    </tr>\n",
       "    <tr>\n",
       "      <th>1</th>\n",
       "      <td>Академический</td>\n",
       "      <td>Большая Черёмушкинская улица</td>\n",
       "    </tr>\n",
       "    <tr>\n",
       "      <th>2</th>\n",
       "      <td>Академический</td>\n",
       "      <td>Вавилова, улица</td>\n",
       "    </tr>\n",
       "    <tr>\n",
       "      <th>3</th>\n",
       "      <td>Академический</td>\n",
       "      <td>Винокурова, улица</td>\n",
       "    </tr>\n",
       "    <tr>\n",
       "      <th>4</th>\n",
       "      <td>Академический</td>\n",
       "      <td>Гримау, улица</td>\n",
       "    </tr>\n",
       "  </tbody>\n",
       "</table>\n",
       "</div>"
      ],
      "text/plain": [
       "          region                        street\n",
       "0  Академический    60-летия Октября, проспект\n",
       "1  Академический  Большая Черёмушкинская улица\n",
       "2  Академический               Вавилова, улица\n",
       "3  Академический             Винокурова, улица\n",
       "4  Академический                 Гримау, улица"
      ]
     },
     "execution_count": 39,
     "metadata": {},
     "output_type": "execute_result"
    }
   ],
   "source": [
    "streets_info.head()"
   ]
  },
  {
   "cell_type": "code",
   "execution_count": 40,
   "metadata": {},
   "outputs": [],
   "source": [
    "def rename_streets(s):\n",
    "    lst = s.split(' ')\n",
    "    new_name = ' '.join([lst[1], lst[0], lst[2]])\n",
    "    return new_name"
   ]
  },
  {
   "cell_type": "code",
   "execution_count": 41,
   "metadata": {},
   "outputs": [],
   "source": [
    "for s in['1-й', '2-й', '1-я', '2-я', '3-я', '4-я']:\n",
    "    streets_info.loc[streets_info['street'].str.contains(s), 'street'] = streets_info.loc[\n",
    "        streets_info['street'].str.contains(s), 'street'].map(rename_streets)"
   ]
  },
  {
   "cell_type": "code",
   "execution_count": 42,
   "metadata": {},
   "outputs": [],
   "source": [
    "streets_with_1_object['street_short'] = streets_with_1_object['street'].str.replace('улица', '')\n",
    "streets_info['street_short'] = streets_info['street'].str.replace('улица', '')\n",
    "streets_info['street_short'] = streets_info['street_short'].str.replace(',', '')\n",
    "streets_with_1_object['street_short'] = streets_with_1_object['street_short'].str.strip()\n",
    "streets_info['street_short'] = streets_info['street_short'].str.strip()"
   ]
  },
  {
   "cell_type": "code",
   "execution_count": 43,
   "metadata": {},
   "outputs": [
    {
     "data": {
      "text/plain": [
       "2         1-й Балтийский переулок\n",
       "3          1-й Басманный переулок\n",
       "4         1-й Ботанический проезд\n",
       "7         1-й Вешняковский проезд\n",
       "9       1-й Голутвинский переулок\n",
       "                  ...            \n",
       "1926                     Шумилова\n",
       "1927                      Шумкина\n",
       "1931                        Щорса\n",
       "1932                     Энгельса\n",
       "1937                 шоссе Фрезер\n",
       "Name: street_short, Length: 571, dtype: object"
      ]
     },
     "execution_count": 43,
     "metadata": {},
     "output_type": "execute_result"
    }
   ],
   "source": [
    "streets_with_1_object['street_short']"
   ]
  },
  {
   "cell_type": "code",
   "execution_count": 44,
   "metadata": {},
   "outputs": [
    {
     "data": {
      "text/html": [
       "<div>\n",
       "<style scoped>\n",
       "    .dataframe tbody tr th:only-of-type {\n",
       "        vertical-align: middle;\n",
       "    }\n",
       "\n",
       "    .dataframe tbody tr th {\n",
       "        vertical-align: top;\n",
       "    }\n",
       "\n",
       "    .dataframe thead th {\n",
       "        text-align: right;\n",
       "    }\n",
       "</style>\n",
       "<table border=\"1\" class=\"dataframe\">\n",
       "  <thead>\n",
       "    <tr style=\"text-align: right;\">\n",
       "      <th></th>\n",
       "      <th>region</th>\n",
       "      <th>street</th>\n",
       "      <th>street_short</th>\n",
       "    </tr>\n",
       "  </thead>\n",
       "  <tbody>\n",
       "    <tr>\n",
       "      <th>0</th>\n",
       "      <td>Академический</td>\n",
       "      <td>60-летия Октября, проспект</td>\n",
       "      <td>60-летия Октября проспект</td>\n",
       "    </tr>\n",
       "    <tr>\n",
       "      <th>1</th>\n",
       "      <td>Академический</td>\n",
       "      <td>Большая Черёмушкинская улица</td>\n",
       "      <td>Большая Черёмушкинская</td>\n",
       "    </tr>\n",
       "    <tr>\n",
       "      <th>2</th>\n",
       "      <td>Академический</td>\n",
       "      <td>Вавилова, улица</td>\n",
       "      <td>Вавилова</td>\n",
       "    </tr>\n",
       "    <tr>\n",
       "      <th>3</th>\n",
       "      <td>Академический</td>\n",
       "      <td>Винокурова, улица</td>\n",
       "      <td>Винокурова</td>\n",
       "    </tr>\n",
       "    <tr>\n",
       "      <th>4</th>\n",
       "      <td>Академический</td>\n",
       "      <td>Гримау, улица</td>\n",
       "      <td>Гримау</td>\n",
       "    </tr>\n",
       "    <tr>\n",
       "      <th>...</th>\n",
       "      <td>...</td>\n",
       "      <td>...</td>\n",
       "      <td>...</td>\n",
       "    </tr>\n",
       "    <tr>\n",
       "      <th>15</th>\n",
       "      <td>Ясенево</td>\n",
       "      <td>Соловьиный проезд</td>\n",
       "      <td>Соловьиный проезд</td>\n",
       "    </tr>\n",
       "    <tr>\n",
       "      <th>16</th>\n",
       "      <td>Ясенево</td>\n",
       "      <td>Тарусская улица</td>\n",
       "      <td>Тарусская</td>\n",
       "    </tr>\n",
       "    <tr>\n",
       "      <th>17</th>\n",
       "      <td>Ясенево</td>\n",
       "      <td>Тютчевская аллея</td>\n",
       "      <td>Тютчевская аллея</td>\n",
       "    </tr>\n",
       "    <tr>\n",
       "      <th>18</th>\n",
       "      <td>Ясенево</td>\n",
       "      <td>Узкое, посёлок</td>\n",
       "      <td>Узкое посёлок</td>\n",
       "    </tr>\n",
       "    <tr>\n",
       "      <th>19</th>\n",
       "      <td>Ясенево</td>\n",
       "      <td>Ясногорская улица</td>\n",
       "      <td>Ясногорская</td>\n",
       "    </tr>\n",
       "  </tbody>\n",
       "</table>\n",
       "<p>4187 rows × 3 columns</p>\n",
       "</div>"
      ],
      "text/plain": [
       "           region                        street               street_short\n",
       "0   Академический    60-летия Октября, проспект  60-летия Октября проспект\n",
       "1   Академический  Большая Черёмушкинская улица     Большая Черёмушкинская\n",
       "2   Академический               Вавилова, улица                   Вавилова\n",
       "3   Академический             Винокурова, улица                 Винокурова\n",
       "4   Академический                 Гримау, улица                     Гримау\n",
       "..            ...                           ...                        ...\n",
       "15        Ясенево             Соловьиный проезд          Соловьиный проезд\n",
       "16        Ясенево               Тарусская улица                  Тарусская\n",
       "17        Ясенево              Тютчевская аллея           Тютчевская аллея\n",
       "18        Ясенево                Узкое, посёлок              Узкое посёлок\n",
       "19        Ясенево             Ясногорская улица                Ясногорская\n",
       "\n",
       "[4187 rows x 3 columns]"
      ]
     },
     "execution_count": 44,
     "metadata": {},
     "output_type": "execute_result"
    }
   ],
   "source": [
    "streets_info"
   ]
  },
  {
   "cell_type": "code",
   "execution_count": 45,
   "metadata": {},
   "outputs": [],
   "source": [
    "regions_with_1_object = pd.merge(streets_with_1_object, streets_info,\n",
    "                        how='left',\n",
    "                       left_on = 'street_short', \n",
    "                       right_on = 'street_short')"
   ]
  },
  {
   "cell_type": "code",
   "execution_count": 46,
   "metadata": {},
   "outputs": [
    {
     "name": "stdout",
     "output_type": "stream",
     "text": [
      "<class 'pandas.core.frame.DataFrame'>\n",
      "Int64Index: 614 entries, 0 to 613\n",
      "Data columns (total 5 columns):\n",
      " #   Column        Non-Null Count  Dtype \n",
      "---  ------        --------------  ----- \n",
      " 0   street_x      614 non-null    object\n",
      " 1   id            614 non-null    int64 \n",
      " 2   street_short  614 non-null    object\n",
      " 3   region        513 non-null    object\n",
      " 4   street_y      513 non-null    object\n",
      "dtypes: int64(1), object(4)\n",
      "memory usage: 28.8+ KB\n"
     ]
    }
   ],
   "source": [
    "regions_with_1_object.info()"
   ]
  },
  {
   "cell_type": "markdown",
   "metadata": {},
   "source": [
    "Рассмотрим топ-10 районов, в которых есть улицы с единственным заведением:"
   ]
  },
  {
   "cell_type": "code",
   "execution_count": 47,
   "metadata": {},
   "outputs": [
    {
     "data": {
      "text/html": [
       "<div>\n",
       "<style scoped>\n",
       "    .dataframe tbody tr th:only-of-type {\n",
       "        vertical-align: middle;\n",
       "    }\n",
       "\n",
       "    .dataframe tbody tr th {\n",
       "        vertical-align: top;\n",
       "    }\n",
       "\n",
       "    .dataframe thead th {\n",
       "        text-align: right;\n",
       "    }\n",
       "</style>\n",
       "<table border=\"1\" class=\"dataframe\">\n",
       "  <thead>\n",
       "    <tr style=\"text-align: right;\">\n",
       "      <th></th>\n",
       "      <th>Район</th>\n",
       "    </tr>\n",
       "  </thead>\n",
       "  <tbody>\n",
       "    <tr>\n",
       "      <th>Таганский</th>\n",
       "      <td>26</td>\n",
       "    </tr>\n",
       "    <tr>\n",
       "      <th>Басманный</th>\n",
       "      <td>25</td>\n",
       "    </tr>\n",
       "    <tr>\n",
       "      <th>Хамовники</th>\n",
       "      <td>24</td>\n",
       "    </tr>\n",
       "    <tr>\n",
       "      <th>Тверской</th>\n",
       "      <td>20</td>\n",
       "    </tr>\n",
       "    <tr>\n",
       "      <th>Пресненский</th>\n",
       "      <td>19</td>\n",
       "    </tr>\n",
       "    <tr>\n",
       "      <th>Арбат</th>\n",
       "      <td>18</td>\n",
       "    </tr>\n",
       "    <tr>\n",
       "      <th>Мещанский</th>\n",
       "      <td>15</td>\n",
       "    </tr>\n",
       "    <tr>\n",
       "      <th>Замоскворечье</th>\n",
       "      <td>13</td>\n",
       "    </tr>\n",
       "    <tr>\n",
       "      <th>Лефортово</th>\n",
       "      <td>12</td>\n",
       "    </tr>\n",
       "    <tr>\n",
       "      <th>Сокольники</th>\n",
       "      <td>11</td>\n",
       "    </tr>\n",
       "  </tbody>\n",
       "</table>\n",
       "</div>"
      ],
      "text/plain": [
       "               Район\n",
       "Таганский         26\n",
       "Басманный         25\n",
       "Хамовники         24\n",
       "Тверской          20\n",
       "Пресненский       19\n",
       "Арбат             18\n",
       "Мещанский         15\n",
       "Замоскворечье     13\n",
       "Лефортово         12\n",
       "Сокольники        11"
      ]
     },
     "execution_count": 47,
     "metadata": {},
     "output_type": "execute_result"
    }
   ],
   "source": [
    "top_regions_with_1_object = pd.DataFrame(\n",
    "    regions_with_1_object['region'].value_counts().head(10))\n",
    "top_regions_with_1_object.columns = ['Район']\n",
    "top_regions_with_1_object"
   ]
  },
  {
   "cell_type": "markdown",
   "metadata": {},
   "source": [
    "Видно, что среди районов, в которых много улиц с одним объектом общественного питания есть центральные и престижные районы. Данная информация требует отдельного детального изучения с целью определения причин нераспространенности объектов питания."
   ]
  },
  {
   "cell_type": "markdown",
   "metadata": {},
   "source": [
    "**3.8. Распределение количества посадочных мест для улиц с большим количеством объектов общественного питания**"
   ]
  },
  {
   "cell_type": "code",
   "execution_count": 48,
   "metadata": {},
   "outputs": [
    {
     "data": {
      "text/plain": [
       "Index(['проспект Мира', 'Профсоюзная улица', 'Ленинградский проспект',\n",
       "       'Пресненская набережная', 'Варшавское шоссе', 'Ленинский проспект',\n",
       "       'проспект Вернадского', 'Кутузовский проспект', 'Каширское шоссе',\n",
       "       'Кировоградская улица'],\n",
       "      dtype='object', name='street')"
      ]
     },
     "execution_count": 48,
     "metadata": {},
     "output_type": "execute_result"
    }
   ],
   "source": [
    "top10_streets.index"
   ]
  },
  {
   "cell_type": "code",
   "execution_count": 49,
   "metadata": {},
   "outputs": [],
   "source": [
    "data_top10 = data[data['street'].isin(top10_streets.index)]"
   ]
  },
  {
   "cell_type": "code",
   "execution_count": 50,
   "metadata": {},
   "outputs": [
    {
     "data": {
      "text/html": [
       "<div>\n",
       "<style scoped>\n",
       "    .dataframe tbody tr th:only-of-type {\n",
       "        vertical-align: middle;\n",
       "    }\n",
       "\n",
       "    .dataframe tbody tr th {\n",
       "        vertical-align: top;\n",
       "    }\n",
       "\n",
       "    .dataframe thead th {\n",
       "        text-align: right;\n",
       "    }\n",
       "</style>\n",
       "<table border=\"1\" class=\"dataframe\">\n",
       "  <thead>\n",
       "    <tr style=\"text-align: right;\">\n",
       "      <th></th>\n",
       "      <th>id</th>\n",
       "      <th>number</th>\n",
       "    </tr>\n",
       "  </thead>\n",
       "  <tbody>\n",
       "    <tr>\n",
       "      <th>count</th>\n",
       "      <td>1508.000000</td>\n",
       "      <td>1508.000000</td>\n",
       "    </tr>\n",
       "    <tr>\n",
       "      <th>mean</th>\n",
       "      <td>126665.931034</td>\n",
       "      <td>57.965517</td>\n",
       "    </tr>\n",
       "    <tr>\n",
       "      <th>std</th>\n",
       "      <td>72453.593626</td>\n",
       "      <td>89.955523</td>\n",
       "    </tr>\n",
       "    <tr>\n",
       "      <th>min</th>\n",
       "      <td>19654.000000</td>\n",
       "      <td>0.000000</td>\n",
       "    </tr>\n",
       "    <tr>\n",
       "      <th>25%</th>\n",
       "      <td>29385.500000</td>\n",
       "      <td>12.000000</td>\n",
       "    </tr>\n",
       "    <tr>\n",
       "      <th>50%</th>\n",
       "      <td>150752.500000</td>\n",
       "      <td>38.500000</td>\n",
       "    </tr>\n",
       "    <tr>\n",
       "      <th>75%</th>\n",
       "      <td>188530.500000</td>\n",
       "      <td>75.000000</td>\n",
       "    </tr>\n",
       "    <tr>\n",
       "      <th>max</th>\n",
       "      <td>223439.000000</td>\n",
       "      <td>1700.000000</td>\n",
       "    </tr>\n",
       "  </tbody>\n",
       "</table>\n",
       "</div>"
      ],
      "text/plain": [
       "                  id       number\n",
       "count    1508.000000  1508.000000\n",
       "mean   126665.931034    57.965517\n",
       "std     72453.593626    89.955523\n",
       "min     19654.000000     0.000000\n",
       "25%     29385.500000    12.000000\n",
       "50%    150752.500000    38.500000\n",
       "75%    188530.500000    75.000000\n",
       "max    223439.000000  1700.000000"
      ]
     },
     "execution_count": 50,
     "metadata": {},
     "output_type": "execute_result"
    }
   ],
   "source": [
    "data_top10.describe()"
   ]
  },
  {
   "cell_type": "markdown",
   "metadata": {},
   "source": [
    "Медианное количество посадочных мест для районов с топ-10 улицами составляет чуть меньше 40.  \n",
    "Посмотрим детально по улицам.  "
   ]
  },
  {
   "cell_type": "code",
   "execution_count": 51,
   "metadata": {},
   "outputs": [
    {
     "data": {
      "image/png": "[encoded data removed]",
      "text/plain": [
       "<Figure size 576x396 with 1 Axes>"
      ]
     },
     "metadata": {
      "needs_background": "light"
     },
     "output_type": "display_data"
    }
   ],
   "source": [
    "plt.plot()\n",
    "sns.boxplot(x='number', y='street', data=data_top10)\n",
    "plt.title('Распределение количества посадочных мест для топ-10 улиц')\n",
    "plt.xlabel('Число посадочных мест')\n",
    "plt.ylabel('Улица');"
   ]
  },
  {
   "cell_type": "raw",
   "metadata": {},
   "source": [
    "Есть много заведений с очень большим количеством мест, особенно на проспекте Вернадского и Кутузовском проспекте.  \n",
    "Отфильтруем эти \"аномалии\" и посмотрим на распределения без них.  "
   ]
  },
  {
   "cell_type": "code",
   "execution_count": 52,
   "metadata": {},
   "outputs": [
    {
     "data": {
      "image/png": "[encoded data removed]",
      "text/plain": [
       "<Figure size 576x396 with 1 Axes>"
      ]
     },
     "metadata": {
      "needs_background": "light"
     },
     "output_type": "display_data"
    }
   ],
   "source": [
    "plt.plot()\n",
    "sns.boxplot(x='number', y='street', data=data_top10[data_top10['number']<250])\n",
    "plt.title('Распределение количества посадочных мест для топ-10 улиц без аномалий')\n",
    "plt.xlabel('Число посадочных мест')\n",
    "plt.ylabel('Улица');"
   ]
  },
  {
   "cell_type": "markdown",
   "metadata": {},
   "source": [
    "Медианное количество посадочных мест для каждой из топ-10 улиц не превышает 50.  "
   ]
  },
  {
   "cell_type": "markdown",
   "metadata": {},
   "source": [
    "<a id='step4'></a>\n",
    "## 4. Общий вывод"
   ]
  },
  {
   "cell_type": "markdown",
   "metadata": {},
   "source": [
    "* Кафе - самый распространенный тип объекта общественного питания в Москве. Рынок кафе перенасыщен, конкуренция высокая. Поэтому я бы рекомендовала выбрать другой вид заведения для реализации идеи. \n",
    "* Сетевых заведений в четыре раза меньше, чем несетевых. Сеть развить сложно, но в случае успеха это позволит нам повысить узнаваемость бренда и получать большие прибыли, поэтому будем ориентироваться на сетевое распространение.  \n",
    "* В случае принятия решения о развитии сети наиболее предпочтительным будет выбор ресторана быстрого питания.  \n",
    "* Для сетевых заведений характерно меньшее количество посадочных мест, чем для несетевых. \n",
    "* Самое большое количество посадочных мест в среднем предоставляют столовые и рестораны.   \n",
    "* Среди топ-10 улиц по количеству объектов общественного питания выделяется Пресненская набережная, которая в отличие от других не имеет большой протяженности.\n",
    "* Рекомендованное количество посадочных мест - около 50.  \n",
    "* Что касается расположения, можно рекомендовать провести более детальный анализ: выбрать районы, содержащие топ-10 улиц и найти на них улицы, имеющие один объект общественного питания при отсутствии очевидных для этого причин (очень малая протяженность или расположение в промзоне например). По моему мнению, начать следует с Пресненского района. Идея с роботами там определенно должна иметь успех.\n"
   ]
  },
  {
   "cell_type": "markdown",
   "metadata": {},
   "source": [
    "[К содержанию](#Содержание)"
   ]
  },
  {
   "cell_type": "markdown",
   "metadata": {},
   "source": [
    "Презентация: https://yadi.sk/i/IMrfoGpadA_Rzg"
   ]
  },
  {
   "cell_type": "code",
   "execution_count": null,
   "metadata": {},
   "outputs": [],
   "source": []
  }
 ],
 "metadata": {
  "kernelspec": {
   "display_name": "Python 3",
   "language": "python",
   "name": "python3"
  },
  "language_info": {
   "codemirror_mode": {
    "name": "ipython",
    "version": 3
   },
   "file_extension": ".py",
   "mimetype": "text/x-python",
   "name": "python",
   "nbconvert_exporter": "python",
   "pygments_lexer": "ipython3",
   "version": "3.8.3"
  }
 },
 "nbformat": 4,
 "nbformat_minor": 2
}
